{
 "cells": [
  {
   "cell_type": "code",
   "execution_count": 47,
   "id": "ef0158ea",
   "metadata": {},
   "outputs": [],
   "source": [
    "import numpy as np\n",
    "import coop_post_processing as cpp\n",
    "import matplotlib.pyplot as plt\n",
    "from astropy.io import fits"
   ]
  },
  {
   "cell_type": "code",
   "execution_count": null,
   "id": "a36bae7a",
   "metadata": {},
   "outputs": [],
   "source": [
    "ls /mnt/scratch-lustre/mlokken/stacking/ACT+Planck/full_map_stacks/ACTxDES_lambdagt10"
   ]
  },
  {
   "cell_type": "code",
   "execution_count": 46,
   "id": "b35e505f",
   "metadata": {},
   "outputs": [],
   "source": [
    "angles = []\n",
    "for r in range(15):\n",
    "    for d in range(1032, 2632, 200):\n",
    "        pksfile = \"/mnt/scratch-lustre/mlokken/stacking/ACT+Planck/{:d}/ACTxDES_lambdagt10_reg{:d}_{:d}_{:d}Mpc_17pt8_pks.fits\".format(r,r,d,d+200)\n",
    "        angle, ra, dec = cpp.peakinfo_radec(pksfile)\n",
    "        angles.extend(angle)"
   ]
  },
  {
   "cell_type": "code",
   "execution_count": 58,
   "id": "c834bdfd",
   "metadata": {},
   "outputs": [],
   "source": [
    "angles_mod = (np.asarray(angles) - np.pi/2)\n"
   ]
  },
  {
   "cell_type": "code",
   "execution_count": 63,
   "id": "c3451a18",
   "metadata": {},
   "outputs": [],
   "source": [
    "ang_no_randpi = []\n",
    "for a in angles:\n",
    "    if a>np.pi/2.:\n",
    "        a -= np.pi\n",
    "    ang_no_randpi.append(a)\n",
    "        "
   ]
  },
  {
   "cell_type": "code",
   "execution_count": 67,
   "id": "1e2a9c68",
   "metadata": {},
   "outputs": [
    {
     "data": {
      "text/plain": [
       "Text(0, 0.5, 'Number of clusters')"
      ]
     },
     "execution_count": 67,
     "metadata": {},
     "output_type": "execute_result"
    },
    {
     "data": {
      "image/png": "[encoded data removed]",
      "text/plain": [
       "<Figure size 432x288 with 1 Axes>"
      ]
     },
     "metadata": {
      "needs_background": "light"
     },
     "output_type": "display_data"
    }
   ],
   "source": [
    "plt.hist(np.rad2deg(ang_no_randpi), bins=50)\n",
    "plt.xlabel(\"Angle with respect to RA [deg]\")\n",
    "plt.ylabel(\"Number of clusters\")"
   ]
  },
  {
   "cell_type": "code",
   "execution_count": 44,
   "id": "aa288879",
   "metadata": {},
   "outputs": [
    {
     "data": {
      "text/plain": [
       "1.4996419501013172"
      ]
     },
     "execution_count": 44,
     "metadata": {},
     "output_type": "execute_result"
    }
   ],
   "source": [
    "np.amax(angles)/np.pi"
   ]
  },
  {
   "cell_type": "code",
   "execution_count": 62,
   "id": "43da10b3",
   "metadata": {},
   "outputs": [
    {
     "data": {
      "text/plain": [
       "Text(0, 0.5, 'Number of clusters')"
      ]
     },
     "execution_count": 62,
     "metadata": {},
     "output_type": "execute_result"
    },
    {
     "data": {
      "image/png": "[encoded data removed]",
      "text/plain": [
       "<Figure size 432x288 with 1 Axes>"
      ]
     },
     "metadata": {
      "needs_background": "light"
     },
     "output_type": "display_data"
    }
   ],
   "source": [
    "plt.hist(np.rad2deg(angles_mod), bins=100)\n",
    "plt.xlabel(\"Angle with respect to RA [deg]\")\n",
    "plt.ylabel(\"Number of clusters\")"
   ]
  },
  {
   "cell_type": "code",
   "execution_count": null,
   "id": "f178f099",
   "metadata": {},
   "outputs": [],
   "source": []
  }
 ],
 "metadata": {
  "kernelspec": {
   "display_name": "Python 3 (ipykernel)",
   "language": "python",
   "name": "python3"
  },
  "language_info": {
   "codemirror_mode": {
    "name": "ipython",
    "version": 3
   },
   "file_extension": ".py",
   "mimetype": "text/x-python",
   "name": "python",
   "nbconvert_exporter": "python",
   "pygments_lexer": "ipython3",
   "version": "3.10.2"
  }
 },
 "nbformat": 4,
 "nbformat_minor": 5
}
