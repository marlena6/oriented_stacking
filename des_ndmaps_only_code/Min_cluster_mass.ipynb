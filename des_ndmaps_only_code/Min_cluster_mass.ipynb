{
 "cells": [
  {
   "cell_type": "markdown",
   "metadata": {},
   "source": [
    "# Examine cluster masses in DES RedMaPPer sample: ACT overlap region"
   ]
  },
  {
   "cell_type": "code",
   "execution_count": 56,
   "metadata": {},
   "outputs": [],
   "source": [
    "import numpy as np\n",
    "import healpy as hp\n",
    "from astropy.io import fits\n",
    "import warnings\n",
    "warnings.filterwarnings(action='once')\n",
    "import matplotlib.pyplot as plt\n",
    "from matplotlib import rc\n",
    "rc('font',**{'family':'serif','serif':['Helvetica']})\n",
    "## for Palatino and other serif fonts use:\n",
    "#rc('font',**{'family':'serif','serif':['Palatino']})\n",
    "rc('text', usetex=True)"
   ]
  },
  {
   "cell_type": "code",
   "execution_count": 57,
   "metadata": {},
   "outputs": [],
   "source": [
    "des = fits.open(\"/mnt/scratch-lustre/mlokken/RM_cats/y3_gold_2.2.1_wide_sofcol_run2_redmapper_v6.4.22+2_lgt5_vl02_catalog.fit\")\n",
    "desclustrs = des[1].data\n",
    "hdr = des[1].header\n",
    "des.close()"
   ]
  },
  {
   "cell_type": "markdown",
   "metadata": {},
   "source": [
    "## Limit region only to ACT Overlap area"
   ]
  },
  {
   "cell_type": "code",
   "execution_count": 61,
   "metadata": {},
   "outputs": [],
   "source": [
    "#This range is approximate\n",
    "desclustrs_act = desclustrs[np.logical_and(np.logical_or(desclustrs['RA']>355, desclustrs['RA']<40), np.logical_and(desclustrs['DEC']>-3, desclustrs['DEC']<4))]\n"
   ]
  },
  {
   "cell_type": "code",
   "execution_count": 62,
   "metadata": {},
   "outputs": [],
   "source": [
    "ra = desclustrs_act['RA']\n",
    "dec = desclustrs_act['DEC']\n",
    "z = desclustrs_act['Z_LAMBDA']\n",
    "richness = desclustrs_act['LAMBDA_CHISQ']"
   ]
  },
  {
   "cell_type": "code",
   "execution_count": 63,
   "metadata": {},
   "outputs": [
    {
     "name": "stdout",
     "output_type": "stream",
     "text": [
      "Minimum redshift: 0.100339, maximum redshift: 0.751326\n"
     ]
    }
   ],
   "source": [
    "minz = min(z)\n",
    "maxz = max(z)\n",
    "print(\"Minimum redshift: %f, maximum redshift: %f\" %(minz,maxz) )"
   ]
  },
  {
   "cell_type": "code",
   "execution_count": 64,
   "metadata": {},
   "outputs": [
    {
     "data": {
      "text/plain": [
       "XTENSION= 'BINTABLE'           /Binary table written by MWRFITS v1.11b          \n",
       "BITPIX  =                    8 /Required value                                  \n",
       "NAXIS   =                    2 /Required value                                  \n",
       "NAXIS1  =                  730 /Number of bytes per row                         \n",
       "NAXIS2  =               268173 /Number of rows                                  \n",
       "PCOUNT  =                    0 /Normally 0 (no varying arrays)                  \n",
       "GCOUNT  =                    1 /Required value                                  \n",
       "TFIELDS =                   69 /Number of columns in table                      \n",
       "COMMENT                                                                         \n",
       "COMMENT  *** End of mandatory fields ***                                        \n",
       "COMMENT                                                                         \n",
       "COMMENT                                                                         \n",
       "COMMENT  *** Column names ***                                                   \n",
       "COMMENT                                                                         \n",
       "TTYPE1  = 'MEM_MATCH_ID'       /                                                \n",
       "TTYPE2  = 'RA      '           /                                                \n",
       "TTYPE3  = 'DEC     '           /                                                \n",
       "TTYPE4  = 'MODEL_MAG'          /                                                \n",
       "TTYPE5  = 'MODEL_MAGERR'       /                                                \n",
       "TTYPE6  = 'REFMAG  '           /                                                \n",
       "TTYPE7  = 'REFMAG_ERR'         /                                                \n",
       "TTYPE8  = 'ZRED    '           /                                                \n",
       "TTYPE9  = 'ZRED_E  '           /                                                \n",
       "TTYPE10 = 'ZRED_CHISQ'         /                                                \n",
       "TTYPE11 = 'BCG_SPEC_Z'         /                                                \n",
       "TTYPE12 = 'Z_SPEC_INIT'        /                                                \n",
       "TTYPE13 = 'Z_INIT  '           /                                                \n",
       "TTYPE14 = 'Z       '           /                                                \n",
       "TTYPE15 = 'LAMBDA_CHISQ'       /                                                \n",
       "TTYPE16 = 'LAMBDA_CHISQ_E'     /                                                \n",
       "TTYPE17 = 'LAMBDA_ZRED'        /                                                \n",
       "TTYPE18 = 'LAMBDA_ZRED_E'      /                                                \n",
       "TTYPE19 = 'R_LAMBDA'           /                                                \n",
       "TTYPE20 = 'SCALEVAL'           /                                                \n",
       "TTYPE21 = 'MASKFRAC'           /                                                \n",
       "TTYPE22 = 'GEOMASKFRAC'        /                                                \n",
       "TTYPE23 = 'C_LAMBDA'           /                                                \n",
       "TTYPE24 = 'C_LAMBDA_ERR'       /                                                \n",
       "TTYPE25 = 'MAG_LAMBDA_ERR'     /                                                \n",
       "TTYPE26 = 'CHISQ   '           /                                                \n",
       "TTYPE27 = 'Z_LAMBDA'           /                                                \n",
       "TTYPE28 = 'Z_LAMBDA_E'         /                                                \n",
       "TTYPE29 = 'Z_LAMBDA_NITER'     /                                                \n",
       "TTYPE30 = 'EBV_MEAN'           /                                                \n",
       "TTYPE31 = 'LNLAMLIKE'          /                                                \n",
       "TTYPE32 = 'LNBCGLIKE'          /                                                \n",
       "TTYPE33 = 'LNLIKE  '           /                                                \n",
       "TTYPE34 = 'PZBINS  '           /                                                \n",
       "TTYPE35 = 'PZ      '           /                                                \n",
       "TTYPE36 = 'NCROSS  '           /                                                \n",
       "TTYPE37 = 'RMASK   '           /                                                \n",
       "TTYPE38 = 'RA_ORIG '           /                                                \n",
       "TTYPE39 = 'DEC_ORIG'           /                                                \n",
       "TTYPE40 = 'W       '           /                                                \n",
       "TTYPE41 = 'DLAMBDA_DZ'         /                                                \n",
       "TTYPE42 = 'DLAMBDA_DZ2'        /                                                \n",
       "TTYPE43 = 'DLAMBDAVAR_DZ'      /                                                \n",
       "TTYPE44 = 'DLAMBDAVAR_DZ2'     /                                                \n",
       "TTYPE45 = 'LAMBDA_CHISQ_C'     /                                                \n",
       "TTYPE46 = 'LAMBDA_CHISQ_CE'    /                                                \n",
       "TTYPE47 = 'NCENT   '           /                                                \n",
       "TTYPE48 = 'NCENT_GOOD'         /                                                \n",
       "TTYPE49 = 'RA_CENT '           /                                                \n",
       "TTYPE50 = 'DEC_CENT'           /                                                \n",
       "TTYPE51 = 'ID_CENT '           /                                                \n",
       "TTYPE52 = 'LAMBDA_CHISQ_CENT'  /                                                \n",
       "TTYPE53 = 'ZLAMBDA_CENT'       /                                                \n",
       "TTYPE54 = 'P_BCG   '           /                                                \n",
       "TTYPE55 = 'P_CEN   '           /                                                \n",
       "TTYPE56 = 'Q_CEN   '           /                                                \n",
       "TTYPE57 = 'P_FG    '           /                                                \n",
       "TTYPE58 = 'Q_MISS  '           /                                                \n",
       "TTYPE59 = 'P_SAT   '           /                                                \n",
       "TTYPE60 = 'P_C     '           /                                                \n",
       "TTYPE61 = 'BCG_ILUM'           /                                                \n",
       "TTYPE62 = 'ILUM    '           /                                                \n",
       "TTYPE63 = 'Z_LAMBDA_RAW'       /                                                \n",
       "TTYPE64 = 'Z_LAMBDA_E_RAW'     /                                                \n",
       "TTYPE65 = 'LIM_EXPTIME'        /                                                \n",
       "TTYPE66 = 'LIM_LIMMAG_DERED'   /                                                \n",
       "TTYPE67 = 'LIM_LIMMAG'         /                                                \n",
       "TTYPE68 = 'LIM_LIMMAG_HARD'    /                                                \n",
       "TTYPE69 = 'MASKGAL_INDEX'      /                                                \n",
       "COMMENT                                                                         \n",
       "COMMENT  *** Column formats ***                                                 \n",
       "COMMENT                                                                         \n",
       "TFORM1  = 'J       '           /                                                \n",
       "TFORM2  = 'D       '           /                                                \n",
       "TFORM3  = 'D       '           /                                                \n",
       "TFORM4  = '4E      '           /                                                \n",
       "TFORM5  = '4E      '           /                                                \n",
       "TFORM6  = 'E       '           /                                                \n",
       "TFORM7  = 'E       '           /                                                \n",
       "TFORM8  = 'E       '           /                                                \n",
       "TFORM9  = 'E       '           /                                                \n",
       "TFORM10 = 'E       '           /                                                \n",
       "TFORM11 = 'E       '           /                                                \n",
       "TFORM12 = 'E       '           /                                                \n",
       "TFORM13 = 'E       '           /                                                \n",
       "TFORM14 = 'E       '           /                                                \n",
       "TFORM15 = 'E       '           /                                                \n",
       "TFORM16 = 'E       '           /                                                \n",
       "TFORM17 = 'E       '           /                                                \n",
       "TFORM18 = 'E       '           /                                                \n",
       "TFORM19 = 'E       '           /                                                \n",
       "TFORM20 = 'E       '           /                                                \n",
       "TFORM21 = 'E       '           /                                                \n",
       "TFORM22 = 'E       '           /                                                \n",
       "TFORM23 = '3E      '           /                                                \n",
       "TFORM24 = '3E      '           /                                                \n",
       "TFORM25 = '4E      '           /                                                \n",
       "TFORM26 = 'E       '           /                                                \n",
       "TFORM27 = 'E       '           /                                                \n",
       "TFORM28 = 'E       '           /                                                \n",
       "TFORM29 = 'I       '           /                                                \n",
       "TFORM30 = 'E       '           /                                                \n",
       "TFORM31 = 'E       '           /                                                \n",
       "TFORM32 = 'E       '           /                                                \n",
       "TFORM33 = 'E       '           /                                                \n",
       "TFORM34 = '21E     '           /                                                \n",
       "TFORM35 = '21E     '           /                                                \n",
       "TFORM36 = 'I       '           /                                                \n",
       "TFORM37 = 'E       '           /                                                \n",
       "TFORM38 = 'D       '           /                                                \n",
       "TFORM39 = 'D       '           /                                                \n",
       "TFORM40 = 'E       '           /                                                \n",
       "TFORM41 = 'E       '           /                                                \n",
       "TFORM42 = 'E       '           /                                                \n",
       "TFORM43 = 'E       '           /                                                \n",
       "TFORM44 = 'E       '           /                                                \n",
       "TFORM45 = 'E       '           /                                                \n",
       "TFORM46 = 'E       '           /                                                \n",
       "TFORM47 = 'I       '           /                                                \n",
       "TFORM48 = 'I       '           /                                                \n",
       "TFORM49 = '5D      '           /                                                \n",
       "TFORM50 = '5D      '           /                                                \n",
       "TFORM51 = '5K      '           /                                                \n",
       "TFORM52 = '5E      '           /                                                \n",
       "TFORM53 = '5E      '           /                                                \n",
       "TFORM54 = '5E      '           /                                                \n",
       "TFORM55 = '5E      '           /                                                \n",
       "TFORM56 = '5E      '           /                                                \n",
       "TFORM57 = '5E      '           /                                                \n",
       "TFORM58 = 'E       '           /                                                \n",
       "TFORM59 = '5E      '           /                                                \n",
       "TFORM60 = '5E      '           /                                                \n",
       "TFORM61 = 'E       '           /                                                \n",
       "TFORM62 = 'E       '           /                                                \n",
       "TFORM63 = 'E       '           /                                                \n",
       "TFORM64 = 'E       '           /                                                \n",
       "TFORM65 = 'E       '           /                                                \n",
       "TFORM66 = 'E       '           /                                                \n",
       "TFORM67 = 'E       '           /                                                \n",
       "TFORM68 = 'E       '           /                                                \n",
       "TFORM69 = 'I       '           /                                                "
      ]
     },
     "execution_count": 64,
     "metadata": {},
     "output_type": "execute_result"
    }
   ],
   "source": [
    "hdr"
   ]
  },
  {
   "cell_type": "markdown",
   "metadata": {},
   "source": [
    "# richness relation"
   ]
  },
  {
   "cell_type": "markdown",
   "metadata": {},
   "source": [
    "from https://arxiv.org/pdf/1805.00039.pdf"
   ]
  },
  {
   "cell_type": "code",
   "execution_count": 65,
   "metadata": {},
   "outputs": [],
   "source": [
    "M_0 = 3.081\n",
    "F = 1.356\n",
    "G = -0.30\n",
    "M_clust = M_0 * (richness/40.)**F *((1+z)/1.35)**G"
   ]
  },
  {
   "cell_type": "code",
   "execution_count": 66,
   "metadata": {},
   "outputs": [
    {
     "data": {
      "text/plain": [
       "0.17194638"
      ]
     },
     "execution_count": 66,
     "metadata": {},
     "output_type": "execute_result"
    }
   ],
   "source": [
    "#Minimum cluster mass is:\n",
    "\n",
    "np.amin(M_clust) # times 10^14 M_sun"
   ]
  },
  {
   "cell_type": "code",
   "execution_count": 68,
   "metadata": {},
   "outputs": [
    {
     "name": "stderr",
     "output_type": "stream",
     "text": [
      "<input>:2: DeprecationWarning: invalid escape sequence \\o\n",
      "<ipython-input-68-3a32c2a1444c>:2: DeprecationWarning: invalid escape sequence \\o\n",
      "  plt.xlabel('$M_{200} [10^{14} M_\\odot$]')\n"
     ]
    },
    {
     "data": {
      "text/plain": [
       "Text(0.5,1,'Cluster masses in ACT region')"
      ]
     },
     "execution_count": 68,
     "metadata": {},
     "output_type": "execute_result"
    },
    {
     "name": "stderr",
     "output_type": "stream",
     "text": [
      "/opt/anaconda/3-5.3/lib/python3.7/site-packages/matplotlib/font_manager.py:1331: UserWarning: findfont: Font family ['serif'] not found. Falling back to DejaVu Sans\n",
      "  (prop.get_family(), self.defaultFamily[fontext]))\n",
      "/opt/anaconda/3-5.3/lib/python3.7/site-packages/matplotlib/font_manager.py:1331: UserWarning: findfont: Font family ['serif'] not found. Falling back to DejaVu Sans\n",
      "  (prop.get_family(), self.defaultFamily[fontext]))\n"
     ]
    },
    {
     "data": {
      "image/png": "[encoded data removed]",
      "text/plain": [
       "<Figure size 432x288 with 1 Axes>"
      ]
     },
     "metadata": {
      "needs_background": "light"
     },
     "output_type": "display_data"
    }
   ],
   "source": [
    "plt.hist(M_clust, bins = 100, range = [0,2])\n",
    "plt.xlabel('$M_{200} [10^{14} M_\\odot$]')\n",
    "plt.title(\"Cluster masses in ACT region\")"
   ]
  }
 ],
 "metadata": {
  "kernelspec": {
   "display_name": "Python 3",
   "language": "python",
   "name": "python3"
  },
  "language_info": {
   "codemirror_mode": {
    "name": "ipython",
    "version": 3
   },
   "file_extension": ".py",
   "mimetype": "text/x-python",
   "name": "python",
   "nbconvert_exporter": "python",
   "pygments_lexer": "ipython3",
   "version": "3.7.0"
  }
 },
 "nbformat": 4,
 "nbformat_minor": 2
}
