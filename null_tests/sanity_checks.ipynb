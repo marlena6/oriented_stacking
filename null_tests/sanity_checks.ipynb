{
 "cells": [
  {
   "cell_type": "code",
   "execution_count": null,
   "metadata": {},
   "outputs": [],
   "source": [
    "import matplotlib.pyplot as plt\n",
    "import matplotlib\n",
    "import numpy as np\n",
    "import os\n",
    "from astropy.io import fits\n",
    "import astropy.units as u\n",
    "from astropy.cosmology import Planck18 as cosmo, z_at_value\n",
    "import coop_post_processing as cpp\n",
    "from scipy import ndimage\n",
    "from astropy import constants\n",
    "import coop_setup_funcs as csf\n",
    "import warnings\n",
    "warnings.filterwarnings('ignore')\n",
    "from matplotlib import rc\n",
    "rc('font',**{'family':'sans-serif','sans-serif':['Helvetica']})\n",
    "## for Palatino and other serif fonts use:\n",
    "#rc('font',**{'family':'serif','serif':['Palatino']})\n",
    "rc('text', usetex=False)\n",
    "# set plot params\n",
    "import matplotlib as mpl\n",
    "import scipy as sp\n",
    "mpl.font = {'family' : 'normal',\n",
    "        'weight' : 'normal',\n",
    "        'size'   : 3}\n",
    "plt.rcParams.update({'font.size': 14})\n",
    "mpl.rcParams['figure.figsize'] = [8.0, 6.0]\n",
    "import healpy as hp\n",
    "import stats as st\n",
    "\n",
    "import importlib\n",
    "importlib.reload(cpp)\n"
   ]
  },
  {
   "cell_type": "markdown",
   "metadata": {},
   "source": [
    "# 1. Load a redshift bin for y, galaxy, and kappa\n",
    "# 2. Check for all that the number of stacks per region is identical"
   ]
  },
  {
   "cell_type": "code",
   "execution_count": null,
   "metadata": {},
   "outputs": [],
   "source": [
    "dbins = [[893, 1393], [1493, 1993], [2093, 2593], [2693,3193]]\n",
    "for dbin in dbins:\n",
    "    print(z_at_value(cosmo.comoving_distance, (dbin[0]-50)*u.Mpc),z_at_value(cosmo.comoving_distance, (dbin[1]+50)*u.Mpc))\n",
    "\n",
    "zbins = ['0pt20_0pt36', '0pt36_0pt53', '0pt53_0pt72', '0pt72_0pt94'] # the z bins for number density maps\n",
    "actpath  = \"/mnt/scratch-lustre/mlokken/stacking/ACTxDES_paper2/\"\n",
    "buzzpath = \"/mnt/scratch-lustre/mlokken/stacking/Buzzard_paper2/\"\n",
    "mask =  \"/mnt/raid-cita/mlokken/data/masks/y3_gold_2.2.1_RING_joint_redmagic_v0.5.1_wide_maglim_v2.2_mask_hpx_4096.fits\""
   ]
  },
  {
   "cell_type": "code",
   "execution_count": null,
   "metadata": {},
   "outputs": [],
   "source": [
    "nu_e_cuts = True\n",
    "if nu_e_cuts:\n",
    "    pt_selection_str = 'nugt2_egtpt3_'\n",
    "else:\n",
    "    pt_selection_str = ''\n",
    "nreg = 24\n"
   ]
  },
  {
   "cell_type": "code",
   "execution_count": 90,
   "metadata": {},
   "outputs": [
    {
     "name": "stdout",
     "output_type": "stream",
     "text": [
      "retrieving data from /mnt/scratch-lustre/mlokken/stacking/ACTxDES_paper2/DES_maglim_z_0pt20_0pt36_redmapper_lambdagt20_combined_893_1393Mpc_nugt2_egtpt3_20pt0_orientXYUP_75pct_maglim_843_1443Mpc_24reg_m0to5_profiles.pkl\n",
      "Warning: r and profile_splits are different lengths.\n",
      "retrieving data from /mnt/scratch-lustre/mlokken/stacking/ACTxDES_paper2/ilc_SZ_deproj_cib_1.0_10.7_yy_4096_hpx_redmapper_lambdagt20_combined_893_1393Mpc_nugt2_egtpt3_20pt0_orientXYUP_75pct_maglim_843_1443Mpc_24reg_m0to5_profiles.pkl\n",
      "Warning: r and profile_splits are different lengths.\n",
      "retrieving data from /mnt/scratch-lustre/mlokken/stacking/ACTxDES_paper2/kappa_bin4_redmapper_lambdagt20_combined_893_1393Mpc_nugt2_egtpt3_20pt0_orientXYUP_75pct_maglim_843_1443Mpc_24reg_m0to5_profiles.pkl\n",
      "Warning: r and profile_splits are different lengths.\n",
      "retrieving data from /mnt/scratch-lustre/mlokken/stacking/Buzzard_paper2/Buzzard_maglim_z_0pt20_0pt36_redmapper_lambdagt20_combined_893_1393Mpc_nugt2_egtpt3_20pt0_orientXYUP_75pct_maglim_843_1443Mpc_24reg_m0to5_profiles.pkl\n",
      "Warning: r and profile_splits are different lengths.\n",
      "retrieving data from /mnt/scratch-lustre/mlokken/stacking/Buzzard_paper2/ymap_buzzard_fid_hpx_redmapper_lambdagt20_combined_893_1393Mpc_nugt2_egtpt3_20pt0_orientXYUP_75pct_maglim_843_1443Mpc_24reg_m0to5_profiles.pkl\n",
      "Warning: r and profile_splits are different lengths.\n",
      "[ 1  6  7  8 10 11 11 12 15 16 19 19 20 22 25 27 31 31 32 33 36 43 47 48]\n",
      "[ 1  6  7  8 10 11 11 12 15 16 19 19 20 22 25 27 31 31 32 33 36 43 47 48]\n",
      "[ 1  6  7  8 10 11 11 12 15 16 19 19 20 22 25 27 31 31 32 33 36 43 47 48]\n",
      "retrieving data from /mnt/scratch-lustre/mlokken/stacking/ACTxDES_paper2/DES_maglim_z_0pt36_0pt53_redmapper_lambdagt20_combined_1493_1993Mpc_nugt2_egtpt3_20pt0_orientXYUP_75pct_maglim_1443_2043Mpc_24reg_m0to5_profiles.pkl\n",
      "Warning: r and profile_splits are different lengths.\n",
      "retrieving data from /mnt/scratch-lustre/mlokken/stacking/ACTxDES_paper2/ilc_SZ_deproj_cib_1.0_10.7_yy_4096_hpx_redmapper_lambdagt20_combined_1493_1993Mpc_nugt2_egtpt3_20pt0_orientXYUP_75pct_maglim_1443_2043Mpc_24reg_m0to5_profiles.pkl\n",
      "Warning: r and profile_splits are different lengths.\n",
      "retrieving data from /mnt/scratch-lustre/mlokken/stacking/ACTxDES_paper2/kappa_bin4_redmapper_lambdagt20_combined_1493_1993Mpc_nugt2_egtpt3_20pt0_orientXYUP_75pct_maglim_1443_2043Mpc_24reg_m0to5_profiles.pkl\n",
      "Warning: r and profile_splits are different lengths.\n",
      "retrieving data from /mnt/scratch-lustre/mlokken/stacking/Buzzard_paper2/Buzzard_maglim_z_0pt36_0pt53_redmapper_lambdagt20_combined_1493_1993Mpc_nugt2_egtpt3_20pt0_orientXYUP_75pct_maglim_1443_2043Mpc_24reg_m0to5_profiles.pkl\n",
      "Warning: r and profile_splits are different lengths.\n",
      "retrieving data from /mnt/scratch-lustre/mlokken/stacking/Buzzard_paper2/ymap_buzzard_fid_hpx_redmapper_lambdagt20_combined_1493_1993Mpc_nugt2_egtpt3_20pt0_orientXYUP_75pct_maglim_1443_2043Mpc_24reg_m0to5_profiles.pkl\n",
      "Warning: r and profile_splits are different lengths.\n",
      "[ 4 17 18 21 21 22 25 25 27 29 29 31 34 37 37 40 41 42 42 43 47 47 47 60]\n",
      "[ 4 17 18 21 21 22 25 25 27 29 29 31 34 37 37 40 41 42 42 43 47 47 47 60]\n",
      "[ 4 17 18 21 21 22 25 25 27 29 29 31 34 37 37 40 41 42 42 43 47 47 47 60]\n",
      "retrieving data from /mnt/scratch-lustre/mlokken/stacking/ACTxDES_paper2/DES_maglim_z_0pt53_0pt72_redmapper_lambdagt20_combined_2093_2593Mpc_nugt2_egtpt3_20pt0_orientXYUP_75pct_maglim_2043_2643Mpc_24reg_m0to5_profiles.pkl\n",
      "Warning: r and profile_splits are different lengths.\n",
      "retrieving data from /mnt/scratch-lustre/mlokken/stacking/ACTxDES_paper2/ilc_SZ_deproj_cib_1.0_10.7_yy_4096_hpx_redmapper_lambdagt20_combined_2093_2593Mpc_nugt2_egtpt3_20pt0_orientXYUP_75pct_maglim_2043_2643Mpc_24reg_m0to5_profiles.pkl\n",
      "Warning: r and profile_splits are different lengths.\n",
      "retrieving data from /mnt/scratch-lustre/mlokken/stacking/ACTxDES_paper2/kappa_bin4_redmapper_lambdagt20_combined_2093_2593Mpc_nugt2_egtpt3_20pt0_orientXYUP_75pct_maglim_2043_2643Mpc_24reg_m0to5_profiles.pkl\n",
      "Warning: r and profile_splits are different lengths.\n",
      "retrieving data from /mnt/scratch-lustre/mlokken/stacking/Buzzard_paper2/Buzzard_maglim_z_0pt53_0pt72_redmapper_lambdagt20_combined_2093_2593Mpc_nugt2_egtpt3_20pt0_orientXYUP_75pct_maglim_2043_2643Mpc_24reg_m0to5_profiles.pkl\n",
      "Warning: r and profile_splits are different lengths.\n",
      "retrieving data from /mnt/scratch-lustre/mlokken/stacking/Buzzard_paper2/ymap_buzzard_fid_hpx_redmapper_lambdagt20_combined_2093_2593Mpc_nugt2_egtpt3_20pt0_orientXYUP_75pct_maglim_2043_2643Mpc_24reg_m0to5_profiles.pkl\n",
      "Warning: r and profile_splits are different lengths.\n",
      "[17 18 24 25 38 43 45 45 47 47 51 54 56 57 59 60 62 71 72 75 79 80 80 81]\n",
      "[17 18 24 25 38 43 45 45 47 47 51 54 56 57 59 60 62 71 72 75 79 80 80 81]\n",
      "[17 18 24 25 38 43 45 45 47 47 51 54 56 57 59 60 62 71 72 75 79 80 80 81]\n",
      "retrieving data from /mnt/scratch-lustre/mlokken/stacking/ACTxDES_paper2/DES_maglim_z_0pt72_0pt94_redmapper_lambdagt20_combined_2693_3193Mpc_nugt2_egtpt3_20pt0_orientXYUP_75pct_maglim_2643_3243Mpc_24reg_m0to5_profiles.pkl\n",
      "Warning: r and profile_splits are different lengths.\n",
      "retrieving data from /mnt/scratch-lustre/mlokken/stacking/ACTxDES_paper2/ilc_SZ_deproj_cib_1.0_10.7_yy_4096_hpx_redmapper_lambdagt20_combined_2693_3193Mpc_nugt2_egtpt3_20pt0_orientXYUP_75pct_maglim_2643_3243Mpc_24reg_m0to5_profiles.pkl\n",
      "Warning: r and profile_splits are different lengths.\n",
      "retrieving data from /mnt/scratch-lustre/mlokken/stacking/ACTxDES_paper2/kappa_bin4_redmapper_lambdagt20_combined_2693_3193Mpc_nugt2_egtpt3_20pt0_orientXYUP_75pct_maglim_2643_3243Mpc_24reg_m0to5_profiles.pkl\n",
      "Warning: r and profile_splits are different lengths.\n",
      "retrieving data from /mnt/scratch-lustre/mlokken/stacking/Buzzard_paper2/Buzzard_maglim_z_0pt72_0pt94_redmapper_lambdagt20_combined_2693_3193Mpc_nugt2_egtpt3_20pt0_orientXYUP_75pct_maglim_2643_3243Mpc_24reg_m0to5_profiles.pkl\n",
      "Warning: r and profile_splits are different lengths.\n",
      "retrieving data from /mnt/scratch-lustre/mlokken/stacking/Buzzard_paper2/ymap_buzzard_fid_hpx_redmapper_lambdagt20_combined_2693_3193Mpc_nugt2_egtpt3_20pt0_orientXYUP_75pct_maglim_2643_3243Mpc_24reg_m0to5_profiles.pkl\n",
      "Warning: r and profile_splits are different lengths.\n",
      "[ 4  8  9 10 11 14 18 23 23 24 24 24 25 29 29 29 33 34 34 34 37 38 44 45]\n",
      "[ 4  8  9 10 11 14 18 23 23 24 24 24 25 29 29 29 33 34 34 34 37 38 44 45]\n",
      "[ 4  8  9 10 11 14 18 23 23 24 24 24 25 29 29 29 33 34 34 34 37 38 44 45]\n"
     ]
    }
   ],
   "source": [
    "\n",
    "mmax=2\n",
    "b = 7.5\n",
    "average_pks_per_dbin = []\n",
    "binned_profiles_actdes = []\n",
    "binned_errors_actdes = []\n",
    "binned_profiles_buzz = []\n",
    "binned_errors_buzz = []\n",
    "binned_profiles_buzzbreak = []\n",
    "\n",
    "pix_area_sq_arcmin = (hp.nside2pixarea(4096, degrees=True)*(u.deg)**2).to(u.arcmin**2).value\n",
    "for col, dbin in enumerate(dbins):\n",
    "    \n",
    "    cl_dlow, cl_dhi = dbin[0], dbin[1]\n",
    "    dlow   = cl_dlow-50\n",
    "    dhi    = cl_dhi+50\n",
    "    zlow   = z_at_value(cosmo.comoving_distance, cl_dlow*u.Mpc)\n",
    "    zhi    = z_at_value(cosmo.comoving_distance, cl_dhi*u.Mpc)\n",
    "    # get the galaxy conversions here\n",
    "    \n",
    "    mapstr = f'DES_maglim_z_{zbins[col]}'\n",
    "    des, (zlow,zhi) = cpp.retrieve_stack_info(actpath, mapstr, pt_selection_str, dbin, scale=4/pix_area_sq_arcmin, remove_r30=False) # convert to galaxies / arcmin^2\n",
    "   \n",
    "    mapstr = f'ilc_SZ_deproj_cib_1.0_10.7_yy_4096_hpx'    \n",
    "    act, (zlow,zhi) = cpp.retrieve_stack_info(actpath, mapstr, pt_selection_str, dbin, remove_r30=True)\n",
    "\n",
    "    mapstr = f'kappa_bin4'    \n",
    "    desk, (zlow,zhi) = cpp.retrieve_stack_info(actpath, mapstr, pt_selection_str, dbin, remove_r30=False)\n",
    "\n",
    "    mapstr = f'Buzzard_maglim_z_{zbins[col]}'\n",
    "    buzzg, (zlow,zhi) = cpp.retrieve_stack_info(buzzpath, mapstr, pt_selection_str, dbin, scale=4/pix_area_sq_arcmin, remove_r30=True) # convert to galaxies / arcmin^2\n",
    "    \n",
    "    \n",
    "    mapstr = f'ymap_buzzard_fid_hpx'\n",
    "    buzzy, (zlow,zhi) = cpp.retrieve_stack_info(buzzpath, mapstr, pt_selection_str, dbin, remove_r30=True)\n",
    "\n",
    "    print(np.sort(des.Npks_splits))\n",
    "    print(np.sort(act.Npks_splits))\n",
    "    print(np.sort(desk.Npks_splits))\n",
    "    \n",
    "    # print(buzzg.Npks_splits)\n",
    "    # print(buzzy.Npks_splits)\n",
    "    "
   ]
  },
  {
   "cell_type": "code",
   "execution_count": 87,
   "metadata": {},
   "outputs": [
    {
     "data": {
      "text/plain": [
       "(array([ 1,  6,  7,  8, 10, 11, 11, 12, 15, 16, 19, 19, 20, 22, 25, 27, 31,\n",
       "        31, 32, 33, 36, 43, 47, 48]),\n",
       " array([ 1,  6,  7,  8, 10, 11, 11, 12, 15, 16, 19, 19, 20, 22, 25, 27, 31,\n",
       "        31, 32, 33, 36, 43, 47, 48]),\n",
       " array([15,  6, 12, 19, 20, 19, 48, 27, 10, 47, 43, 33, 25, 16, 11, 11, 22,\n",
       "        31,  1, 36, 31,  8, 32,  7]))"
      ]
     },
     "execution_count": 87,
     "metadata": {},
     "output_type": "execute_result"
    }
   ],
   "source": [
    "np.sort(npks_list), np.sort(des.Npks_splits), des.\n"
   ]
  },
  {
   "cell_type": "code",
   "execution_count": null,
   "metadata": {},
   "outputs": [],
   "source": [
    "# test case 1\n",
    "testcase = \"redmapper_lambdagt20_1493_1593Mpc_nugt2_egtpt3_20pt0_orientXYUP_75pct_maglim_1443_1643Mpc_reg1\""
   ]
  },
  {
   "cell_type": "code",
   "execution_count": 76,
   "metadata": {},
   "outputs": [
    {
     "name": "stdout",
     "output_type": "stream",
     "text": [
      "19\n",
      "11\n",
      "27\n",
      "16\n",
      "20\n",
      "32\n",
      "15\n",
      "11\n",
      "10\n",
      "7\n",
      "43\n",
      "8\n",
      "36\n",
      "48\n",
      "31\n",
      "22\n",
      "6\n",
      "33\n",
      "47\n",
      "12\n",
      "1\n",
      "25\n",
      "31\n",
      "19\n"
     ]
    }
   ],
   "source": [
    "dbin = [893, 1393]\n",
    "npks_list = []\n",
    "for reg in range(24):\n",
    "    npks_reg = 0\n",
    "    for d in range(dbin[0], dbin[1], 100):\n",
    "        cl_dlow, cl_dhi = d, d+100\n",
    "        dlow   = cl_dlow-50\n",
    "        dhi    = cl_dhi+50\n",
    "\n",
    "        testcase = f\"redmapper_lambdagt20_{cl_dlow}_{cl_dhi}Mpc_nugt2_egtpt3_20pt0_orientXYUP_75pct_maglim_{dlow}_{dhi}Mpc_reg{reg}\"\n",
    "        path = f\"/mnt/scratch-lustre/mlokken/stacking/ACTxDES_paper2/orient_by_maglim_75/stacks/{reg}\"\n",
    "        if os.path.isfile(f\"{path}/{testcase}_pks.fits\"):\n",
    "            pksregfile = fits.open(f\"{path}/{testcase}_pks.fits\")\n",
    "            dat = pksregfile[0].data\n",
    "            pksregfile.close()\n",
    "        \n",
    "            # print(len(dat))\n",
    "            npks_reg += len(dat)\n",
    "    \n",
    "            kapparegfile = fits.open(f\"{path}/kappa_bin4_{testcase}_stk.fits\")\n",
    "            kdat = kapparegfile[0].data\n",
    "            kapparegfile.close()\n",
    "            galregfile = fits.open(f\"{path}/DES_maglim_z_{zbins[0]}_{testcase}_stk.fits\")\n",
    "            gdat = galregfile[0].data\n",
    "            galregfile.close()\n",
    "            yregfile = fits.open(f\"{path}/ilc_SZ_deproj_cib_1.0_10.7_yy_4096_hpx_{testcase}_stk.fits\")\n",
    "            ydat = yregfile[0].data\n",
    "            yregfile.close()\n",
    "    print(npks_reg)\n",
    "    npks_list.append(npks_reg)"
   ]
  },
  {
   "cell_type": "code",
   "execution_count": null,
   "metadata": {},
   "outputs": [],
   "source": [
    "npks"
   ]
  },
  {
   "cell_type": "code",
   "execution_count": null,
   "metadata": {},
   "outputs": [],
   "source": [
    "pksregfile = fits.open(f\"/mnt/scratch-lustre/mlokken/stacking/ACTxDES_paper2/orient_by_maglim_75/stacks/1/{testcase}_pks.fits\")\n",
    "dat = pksregfile[0].data\n",
    "pksregfile.close()\n",
    "print(len(dat))\n"
   ]
  },
  {
   "cell_type": "code",
   "execution_count": null,
   "metadata": {},
   "outputs": [],
   "source": [
    "kapparegfile = fits.open(f\"/mnt/scratch-lustre/mlokken/stacking/ACTxDES_paper2/orient_by_maglim_75/stacks/1/kappa_bin4_{testcase}_stk.fits\")\n",
    "dat = kapparegfile[0].data\n",
    "kapparegfile.close()\n",
    "plt.imshow(dat)"
   ]
  },
  {
   "cell_type": "code",
   "execution_count": null,
   "metadata": {},
   "outputs": [],
   "source": [
    "galregfile = fits.open(f\"/mnt/scratch-lustre/mlokken/stacking/ACTxDES_paper2/orient_by_maglim_75/stacks/1/DES_maglim_z_{zbins[1]}_{testcase}_stk.fits\")\n",
    "dat = galregfile[0].data\n",
    "galregfile.close()\n",
    "plt.imshow(dat)"
   ]
  },
  {
   "cell_type": "code",
   "execution_count": null,
   "metadata": {},
   "outputs": [],
   "source": [
    "galregfile = fits.open(f\"/mnt/scratch-lustre/mlokken/stacking/ACTxDES_paper2/orient_by_maglim_75/stacks/1/ilc_SZ_deproj_cib_1.0_10.7_yy_4096_hpx_{testcase}_stk.fits\")\n",
    "dat = galregfile[0].data\n",
    "galregfile.close()\n",
    "plt.imshow(dat)"
   ]
  },
  {
   "cell_type": "code",
   "execution_count": null,
   "metadata": {},
   "outputs": [],
   "source": [
    "z_at_value(cosmo.comoving_distance, 1493*u.Mpc)"
   ]
  },
  {
   "cell_type": "code",
   "execution_count": null,
   "metadata": {},
   "outputs": [],
   "source": [
    "ls /mnt/scratch-lustre/mlokken/stacking/ACTxDES_paper2/orient_by_maglim_75/stacks/14/DES_maglim_z_0pt20_0pt36_redmapper_lambdagt20_893_993Mpc_nugt2_egtpt3_20pt0_orientXYUP_75pct_maglim_843_1043Mpc_reg14_stk.txt"
   ]
  }
 ],
 "metadata": {
  "kernelspec": {
   "display_name": "Python 3",
   "language": "python",
   "name": "python3"
  },
  "language_info": {
   "codemirror_mode": {
    "name": "ipython",
    "version": 3
   },
   "file_extension": ".py",
   "mimetype": "text/x-python",
   "name": "python",
   "nbconvert_exporter": "python",
   "pygments_lexer": "ipython3",
   "version": "3.10.2"
  }
 },
 "nbformat": 4,
 "nbformat_minor": 2
}
