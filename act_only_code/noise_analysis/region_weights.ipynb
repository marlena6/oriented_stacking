{
 "cells": [
  {
   "cell_type": "code",
   "execution_count": 1,
   "id": "e743567b",
   "metadata": {},
   "outputs": [
    {
     "name": "stdout",
     "output_type": "stream",
     "text": [
      "[1687286948.906724] [kingcrab:3821838:0]        ib_iface.c:1035 UCX  ERROR ibv_create_cq(cqe=4096) failed: Cannot allocate memory\n"
     ]
    },
    {
     "name": "stderr",
     "output_type": "stream",
     "text": [
      "[kingcrab:3821838] pml_ucx.c:309  Error: Failed to create UCP worker\n"
     ]
    }
   ],
   "source": [
    "import numpy as np\n",
    "import matplotlib.pyplot as plt\n",
    "from matplotlib import cm\n",
    "import pandas as pd\n",
    "from pixell import enmap, enplot, reproject\n",
    "import healpy as hp\n",
    "import warnings\n",
    "warnings.filterwarnings('ignore')\n",
    "from pixell import curvedsky\n",
    "from IPython.display import Markdown, display\n",
    "def printmd(string):\n",
    "    display(Markdown(string))\n",
    "%matplotlib inline\n",
    "from astropy.io import fits\n",
    "from astropy.cosmology import Planck18 as cosmo\n",
    "import astropy.units as u\n",
    "import astropy.coordinates as coord\n",
    "import error_analysis_funcs as ef"
   ]
  },
  {
   "cell_type": "code",
   "execution_count": 2,
   "id": "3ae3cb6e",
   "metadata": {},
   "outputs": [],
   "source": [
    "def eshow(x,**kwargs):\n",
    "    ''' Define a function to help us plot the maps neatly '''\n",
    "    plots = enplot.get_plots(x, **kwargs)\n",
    "    enplot.show(plots, method = \"ipython\")"
   ]
  },
  {
   "cell_type": "code",
   "execution_count": 3,
   "id": "d9288518",
   "metadata": {},
   "outputs": [],
   "source": [
    "# Read in the ymap\n",
    "ymap = enmap.read_map(\"/mnt/raid-cita/mlokken/data/act_ymaps/ilc_SZ_deproj_cib_yy.fits\")\n",
    "mask_em = enmap.read_map(\"/mnt/raid-cita/mlokken/data/masks/outputMask_wide_mask_GAL070_apod_1.50_deg_wExtended.fits\")\n",
    "# noisemap = hp.read_map('/mnt/raid-cita/mlokken/data/act_ymaps/sim_ymaps/wsky_t_nilc_y_220302_masks_20200723_bin_apod_cal_True_dg1_w4.0_h4.0_lsmooth400_lmax10799_set0_0000.fits')\n",
    "# noisemask = hp.read_map(\"/mnt/raid-cita/mlokken/data/act_ymaps/wide_mask_GAL080_apod_3.00_deg_4096_hpx.fits\")\n",
    "# We smooth with healpy in order to use a top hat smoothing function\n",
    "# set 0 to nan in the mask - this helps with the std later\n",
    "# mask[np.where(mask < 0.1)] = np.nan\n",
    "mask_em[np.where(mask_em == 0)] = np.nan"
   ]
  },
  {
   "cell_type": "code",
   "execution_count": null,
   "id": "ba9ae4e8",
   "metadata": {},
   "outputs": [],
   "source": [
    "eshow(mask_em, downgrade=30)"
   ]
  },
  {
   "cell_type": "code",
   "execution_count": 12,
   "id": "4cbdeecd",
   "metadata": {},
   "outputs": [
    {
     "name": "stdout",
     "output_type": "stream",
     "text": [
      "[0.09124623 0.17403076 0.25681529 0.33959981]\n"
     ]
    }
   ],
   "source": [
    "# input a list of scales ranging from the bin size (5 Mpc) at z_min ~ 0.2 to z_max ~ 0.9\n",
    "z_min, z_max = 0.2, 0.9\n",
    "binsize = 5*u.Mpc\n",
    "theta_max = cosmo.arcsec_per_kpc_comoving(z_min).to(u.deg/u.Mpc)*binsize\n",
    "theta_min = cosmo.arcsec_per_kpc_comoving(z_max).to(u.deg/u.Mpc)*binsize\n",
    "scale_list = np.linspace(theta_min.value, theta_max.value, 4)\n",
    "print(scale_list)"
   ]
  },
  {
   "cell_type": "code",
   "execution_count": 13,
   "id": "16c682a8",
   "metadata": {},
   "outputs": [
    {
     "name": "stdout",
     "output_type": "stream",
     "text": [
      "530.035626315731 1972.6842033176597\n"
     ]
    }
   ],
   "source": [
    "ell_max = np.pi*u.rad/theta_min.to(u.rad)\n",
    "ell_min = np.pi*u.rad/theta_max.to(u.rad)\n",
    "print(ell_min, ell_max)"
   ]
  },
  {
   "cell_type": "code",
   "execution_count": 5,
   "id": "1fb36de0",
   "metadata": {},
   "outputs": [],
   "source": [
    "with fits.open(\"/mnt/raid-cita/mlokken/data/cluster_cats/redmapper2.2.1_lgt20vl50_mask_actshr1deg_des_cutpt8.fit\") as stackpoints_file:\n",
    "    ra = stackpoints_file[1].data['RA']\n",
    "    dec = stackpoints_file[1].data['dec']\n",
    "    lamda = stackpoints_file[1].data['lambda_chisq']\n",
    "ra = ra[lamda>20]\n",
    "wrap = ra>180\n",
    "ra[wrap]=ra[wrap]-360\n",
    "dec = dec[lamda>20]\n",
    "region_ids       = np.loadtxt(\"/home/mlokken/oriented_stacking/general_code/labels_24_regions_ACTxDES_lambdagt20.txt\", dtype=int)"
   ]
  },
  {
   "cell_type": "code",
   "execution_count": 11,
   "id": "d13bfac0",
   "metadata": {},
   "outputs": [],
   "source": [
    "# define the minmax list for the regions\n",
    "minmax_list = []\n",
    "reglist = []\n",
    "for i in range(np.amax(region_ids[:,1])+1):\n",
    "    ra_max  = np.amax(ra[region_ids[:,1]==i])\n",
    "    dec_max = np.amax(dec[region_ids[:,1]==i])\n",
    "    ra_min  = np.amin(ra[region_ids[:,1]==i])\n",
    "    dec_min = np.amin(dec[region_ids[:,1]==i])\n",
    "    minmax_list.append([ra_min, ra_max, dec_min, dec_max])\n",
    "    reglist.append(i)"
   ]
  },
  {
   "attachments": {},
   "cell_type": "markdown",
   "id": "1a74462d",
   "metadata": {},
   "source": [
    "## See what the results are for the real y map"
   ]
  },
  {
   "cell_type": "code",
   "execution_count": 10,
   "id": "165cf46b",
   "metadata": {},
   "outputs": [
    {
     "name": "stdout",
     "output_type": "stream",
     "text": [
      "0.09124623175735683\n",
      "map filtered.\n",
      "0.1740307591022704\n",
      "map filtered.\n",
      "0.25681528644718393\n",
      "map filtered.\n",
      "0.33959981379209747\n",
      "map filtered.\n"
     ]
    }
   ],
   "source": [
    "vars_with_scale_y = []\n",
    "var_maps_y = []\n",
    "for theta in scale_list:\n",
    "    print(theta)\n",
    "    ymap_filt = ef.tophat_smooth_pixell(ymap, theta, is_enmap=True)\n",
    "    print(\"map filtered.\")\n",
    "    variances, var_map = ef.spatial_weights(ymap_filt, mask_em, minmax_list=minmax_list, is_enmap=True)\n",
    "    var_maps_y.append(var_map)\n",
    "    vars_with_scale_y.append(variances)"
   ]
  },
  {
   "attachments": {},
   "cell_type": "markdown",
   "id": "2e1320b0",
   "metadata": {},
   "source": [
    "# And now the noise map"
   ]
  },
  {
   "cell_type": "code",
   "execution_count": null,
   "id": "612a6b12",
   "metadata": {
    "scrolled": true
   },
   "outputs": [],
   "source": [
    "# vars_with_scale_noise = []\n",
    "# var_maps_noise = []\n",
    "# for theta in scale_list:\n",
    "#     print(theta)\n",
    "#     ymap_filt = ef.tophat_smooth_pixell(noisemap, theta, is_enmap=False)\n",
    "#     print(\"map filtered.\")\n",
    "#     variances, var_map = ef.spatial_weights(ymap_filt, noisemask, minmax_list=minmax_list, is_enmap=False)\n",
    "#     var_maps_noise.append(var_map)\n",
    "#     vars_with_scale_noise.append(variances)\n",
    "#     break"
   ]
  },
  {
   "cell_type": "code",
   "execution_count": 12,
   "id": "046745b2",
   "metadata": {},
   "outputs": [],
   "source": [
    "weights_y = 1/np.average(np.asarray(vars_with_scale_y), axis=0)\n",
    "weights_y /=np.average(weights_y) # normalize again\n",
    "# weights_noise = 1/np.average(np.asarray(vars_with_scale_noise), axis=0)"
   ]
  },
  {
   "cell_type": "code",
   "execution_count": null,
   "id": "3a37dc3a",
   "metadata": {},
   "outputs": [],
   "source": [
    "plt.plot(np.arange(len(weights_y)), weights_y, label='from y map')\n",
    "# plt.plot(np.arange(len(weights_noise)), weights_noise, label='from noise map')\n",
    "plt.legend()"
   ]
  },
  {
   "cell_type": "code",
   "execution_count": 13,
   "id": "2d30b55f",
   "metadata": {},
   "outputs": [
    {
     "data": {
      "text/plain": [
       "1.0"
      ]
     },
     "execution_count": 13,
     "metadata": {},
     "output_type": "execute_result"
    }
   ],
   "source": [
    "np.average(weights_y)"
   ]
  },
  {
   "cell_type": "code",
   "execution_count": 14,
   "id": "29854eda",
   "metadata": {},
   "outputs": [
    {
     "ename": "KeyboardInterrupt",
     "evalue": "",
     "output_type": "error",
     "traceback": [
      "\u001b[0;31m---------------------------------------------------------------------------\u001b[0m",
      "\u001b[0;31mKeyboardInterrupt\u001b[0m                         Traceback (most recent call last)",
      "\u001b[1;32m/home/mlokken/oriented_stacking/act_only_code/noise_analysis/region_weights.ipynb Cell 15\u001b[0m in \u001b[0;36m<module>\u001b[0;34m\u001b[0m\n\u001b[0;32m----> <a href='vscode-notebook-cell://ssh-remote%2Bkingcrab.cita.utoronto.ca/home/mlokken/oriented_stacking/act_only_code/noise_analysis/region_weights.ipynb#X20sdnNjb2RlLXJlbW90ZQ%3D%3D?line=0'>1</a>\u001b[0m vmap \u001b[39m=\u001b[39m eshow(np\u001b[39m.\u001b[39;49maverage(var_maps_y, axis\u001b[39m=\u001b[39;49m\u001b[39m0\u001b[39;49m), \u001b[39m*\u001b[39;49m\u001b[39m*\u001b[39;49m{\u001b[39m\"\u001b[39;49m\u001b[39mcolorbar\u001b[39;49m\u001b[39m\"\u001b[39;49m:\u001b[39mTrue\u001b[39;49;00m, \u001b[39m\"\u001b[39;49m\u001b[39mdowngrade\u001b[39;49m\u001b[39m\"\u001b[39;49m:\u001b[39m20\u001b[39;49m})\n",
      "\u001b[1;32m/home/mlokken/oriented_stacking/act_only_code/noise_analysis/region_weights.ipynb Cell 15\u001b[0m in \u001b[0;36meshow\u001b[0;34m(x, **kwargs)\u001b[0m\n\u001b[1;32m      <a href='vscode-notebook-cell://ssh-remote%2Bkingcrab.cita.utoronto.ca/home/mlokken/oriented_stacking/act_only_code/noise_analysis/region_weights.ipynb#X20sdnNjb2RlLXJlbW90ZQ%3D%3D?line=0'>1</a>\u001b[0m \u001b[39mdef\u001b[39;00m \u001b[39meshow\u001b[39m(x,\u001b[39m*\u001b[39m\u001b[39m*\u001b[39mkwargs):\n\u001b[1;32m      <a href='vscode-notebook-cell://ssh-remote%2Bkingcrab.cita.utoronto.ca/home/mlokken/oriented_stacking/act_only_code/noise_analysis/region_weights.ipynb#X20sdnNjb2RlLXJlbW90ZQ%3D%3D?line=1'>2</a>\u001b[0m     \u001b[39m''' Define a function to help us plot the maps neatly '''\u001b[39;00m\n\u001b[0;32m----> <a href='vscode-notebook-cell://ssh-remote%2Bkingcrab.cita.utoronto.ca/home/mlokken/oriented_stacking/act_only_code/noise_analysis/region_weights.ipynb#X20sdnNjb2RlLXJlbW90ZQ%3D%3D?line=2'>3</a>\u001b[0m     plots \u001b[39m=\u001b[39m enplot\u001b[39m.\u001b[39;49mget_plots(x, \u001b[39m*\u001b[39;49m\u001b[39m*\u001b[39;49mkwargs)\n\u001b[1;32m      <a href='vscode-notebook-cell://ssh-remote%2Bkingcrab.cita.utoronto.ca/home/mlokken/oriented_stacking/act_only_code/noise_analysis/region_weights.ipynb#X20sdnNjb2RlLXJlbW90ZQ%3D%3D?line=3'>4</a>\u001b[0m     enplot\u001b[39m.\u001b[39mshow(plots, method \u001b[39m=\u001b[39m \u001b[39m\"\u001b[39m\u001b[39mipython\u001b[39m\u001b[39m\"\u001b[39m)\n",
      "File \u001b[0;32m~/.local/lib/python3.10/site-packages/pixell/enplot.py:88\u001b[0m, in \u001b[0;36mget_plots\u001b[0;34m(*arglist, **args)\u001b[0m\n\u001b[1;32m     86\u001b[0m \u001b[39mdef\u001b[39;00m \u001b[39mget_plots\u001b[39m(\u001b[39m*\u001b[39marglist, \u001b[39m*\u001b[39m\u001b[39m*\u001b[39margs):\n\u001b[1;32m     87\u001b[0m \t\u001b[39m\"\"\"This function is identical to enplot.plot\"\"\"\u001b[39;00m\n\u001b[0;32m---> 88\u001b[0m \t\u001b[39mreturn\u001b[39;00m plot(\u001b[39m*\u001b[39;49marglist, \u001b[39m*\u001b[39;49m\u001b[39m*\u001b[39;49margs)\n",
      "File \u001b[0;32m~/.local/lib/python3.10/site-packages/pixell/enplot.py:78\u001b[0m, in \u001b[0;36mplot\u001b[0;34m(*arglist, **args)\u001b[0m\n\u001b[1;32m     32\u001b[0m \u001b[39mdef\u001b[39;00m \u001b[39mplot\u001b[39m(\u001b[39m*\u001b[39marglist, \u001b[39m*\u001b[39m\u001b[39m*\u001b[39margs):\n\u001b[1;32m     33\u001b[0m \t\u001b[39m\"\"\"The main plotting function in this module. Plots the given maps/files,\u001b[39;00m\n\u001b[1;32m     34\u001b[0m \u001b[39m\treturning them as a list of plots, one for each separate image. This\u001b[39;00m\n\u001b[1;32m     35\u001b[0m \u001b[39m\tfunction has two equivalent interfaces:\u001b[39;00m\n\u001b[0;32m   (...)\u001b[0m\n\u001b[1;32m     76\u001b[0m \u001b[39m\tSee plot_iterator for an iterator version of this function.\u001b[39;00m\n\u001b[1;32m     77\u001b[0m \u001b[39m\t\"\"\"\u001b[39;00m\n\u001b[0;32m---> 78\u001b[0m \t\u001b[39mreturn\u001b[39;00m \u001b[39mlist\u001b[39;49m(plot_iterator(\u001b[39m*\u001b[39;49marglist, \u001b[39m*\u001b[39;49m\u001b[39m*\u001b[39;49margs))\n",
      "File \u001b[0;32m~/.local/lib/python3.10/site-packages/pixell/enplot.py:175\u001b[0m, in \u001b[0;36mplot_iterator\u001b[0;34m(*arglist, **kwargs)\u001b[0m\n\u001b[1;32m    173\u001b[0m \u001b[39m# Draw the map\u001b[39;00m\n\u001b[1;32m    174\u001b[0m \u001b[39mif\u001b[39;00m args\u001b[39m.\u001b[39mdriver\u001b[39m.\u001b[39mlower() \u001b[39m==\u001b[39m \u001b[39m\"\u001b[39m\u001b[39mpil\u001b[39m\u001b[39m\"\u001b[39m:\n\u001b[0;32m--> 175\u001b[0m \timg, info \u001b[39m=\u001b[39m draw_map_field(map_field, args, crange[:,crange_ind:crange_ind\u001b[39m+\u001b[39;49mngroup], return_info\u001b[39m=\u001b[39;49m\u001b[39mTrue\u001b[39;49;00m, return_layers\u001b[39m=\u001b[39;49margs\u001b[39m.\u001b[39;49mlayers, printer\u001b[39m=\u001b[39;49msubprint, cache\u001b[39m=\u001b[39;49mcache)\n\u001b[1;32m    176\u001b[0m \tpadding \u001b[39m=\u001b[39m np\u001b[39m.\u001b[39marray([\u001b[39m-\u001b[39minfo\u001b[39m.\u001b[39mbounds[\u001b[39m0\u001b[39m,::\u001b[39m-\u001b[39m\u001b[39m1\u001b[39m],info\u001b[39m.\u001b[39mbounds[\u001b[39m1\u001b[39m,::\u001b[39m-\u001b[39m\u001b[39m1\u001b[39m]\u001b[39m-\u001b[39mmap_field\u001b[39m.\u001b[39mshape[\u001b[39m-\u001b[39m\u001b[39m2\u001b[39m:]],dtype\u001b[39m=\u001b[39m\u001b[39mint\u001b[39m)\n\u001b[1;32m    177\u001b[0m \tprinter\u001b[39m.\u001b[39mwrite(\u001b[39m\"\u001b[39m\u001b[39mpadded by \u001b[39m\u001b[39m%d\u001b[39;00m\u001b[39m \u001b[39m\u001b[39m%d\u001b[39;00m\u001b[39m \u001b[39m\u001b[39m%d\u001b[39;00m\u001b[39m \u001b[39m\u001b[39m%d\u001b[39;00m\u001b[39m\"\u001b[39m \u001b[39m%\u001b[39m \u001b[39mtuple\u001b[39m(padding\u001b[39m.\u001b[39mreshape(\u001b[39m-\u001b[39m\u001b[39m1\u001b[39m)), \u001b[39m4\u001b[39m)\n",
      "File \u001b[0;32m~/.local/lib/python3.10/site-packages/pixell/enplot.py:506\u001b[0m, in \u001b[0;36mdraw_map_field\u001b[0;34m(map, args, crange, return_layers, return_info, printer, cache)\u001b[0m\n\u001b[1;32m    504\u001b[0m \u001b[39mif\u001b[39;00m \u001b[39mnot\u001b[39;00m args\u001b[39m.\u001b[39mnolabels:\n\u001b[1;32m    505\u001b[0m \t\u001b[39mwith\u001b[39;00m printer\u001b[39m.\u001b[39mtime(\u001b[39m\"\u001b[39m\u001b[39mdraw labels\u001b[39m\u001b[39m\"\u001b[39m, \u001b[39m3\u001b[39m):\n\u001b[0;32m--> 506\u001b[0m \t\tlabels, bounds \u001b[39m=\u001b[39m get_cache(cache, (\u001b[39m\"\u001b[39;49m\u001b[39mlabels\u001b[39;49m\u001b[39m\"\u001b[39;49m,tag), \u001b[39mlambda\u001b[39;49;00m: draw_grid_labels(ginfo, args))\n\u001b[1;32m    507\u001b[0m \t\tyoff \u001b[39m=\u001b[39m bounds[\u001b[39m1\u001b[39m][\u001b[39m1\u001b[39m]\n\u001b[1;32m    508\u001b[0m \t\tlayers\u001b[39m.\u001b[39mappend((labels,bounds))\n",
      "File \u001b[0;32m~/.local/lib/python3.10/site-packages/pixell/enplot.py:461\u001b[0m, in \u001b[0;36mget_cache\u001b[0;34m(cache, key, fun)\u001b[0m\n\u001b[1;32m    459\u001b[0m \u001b[39mdef\u001b[39;00m \u001b[39mget_cache\u001b[39m(cache, key, fun):\n\u001b[1;32m    460\u001b[0m \t\u001b[39mif\u001b[39;00m cache \u001b[39mis\u001b[39;00m \u001b[39mNone\u001b[39;00m: \u001b[39mreturn\u001b[39;00m fun()\n\u001b[0;32m--> 461\u001b[0m \t\u001b[39mif\u001b[39;00m key \u001b[39mnot\u001b[39;00m \u001b[39min\u001b[39;00m cache: cache[key] \u001b[39m=\u001b[39m fun()\n\u001b[1;32m    462\u001b[0m \t\u001b[39mreturn\u001b[39;00m cache[key]\n",
      "File \u001b[0;32m~/.local/lib/python3.10/site-packages/pixell/enplot.py:506\u001b[0m, in \u001b[0;36mdraw_map_field.<locals>.<lambda>\u001b[0;34m()\u001b[0m\n\u001b[1;32m    504\u001b[0m \u001b[39mif\u001b[39;00m \u001b[39mnot\u001b[39;00m args\u001b[39m.\u001b[39mnolabels:\n\u001b[1;32m    505\u001b[0m \t\u001b[39mwith\u001b[39;00m printer\u001b[39m.\u001b[39mtime(\u001b[39m\"\u001b[39m\u001b[39mdraw labels\u001b[39m\u001b[39m\"\u001b[39m, \u001b[39m3\u001b[39m):\n\u001b[0;32m--> 506\u001b[0m \t\tlabels, bounds \u001b[39m=\u001b[39m get_cache(cache, (\u001b[39m\"\u001b[39m\u001b[39mlabels\u001b[39m\u001b[39m\"\u001b[39m,tag), \u001b[39mlambda\u001b[39;00m: draw_grid_labels(ginfo, args))\n\u001b[1;32m    507\u001b[0m \t\tyoff \u001b[39m=\u001b[39m bounds[\u001b[39m1\u001b[39m][\u001b[39m1\u001b[39m]\n\u001b[1;32m    508\u001b[0m \t\tlayers\u001b[39m.\u001b[39mappend((labels,bounds))\n",
      "File \u001b[0;32m~/.local/lib/python3.10/site-packages/pixell/enplot.py:685\u001b[0m, in \u001b[0;36mdraw_grid_labels\u001b[0;34m(ginfo, args)\u001b[0m\n\u001b[1;32m    683\u001b[0m \tlinfo \u001b[39m+\u001b[39m\u001b[39m=\u001b[39m cgrid\u001b[39m.\u001b[39mcalc_label_pos(gi, ginfo\u001b[39m.\u001b[39mshape[::\u001b[39m-\u001b[39m\u001b[39m1\u001b[39m])\n\u001b[1;32m    684\u001b[0m canvas \u001b[39m=\u001b[39m PIL\u001b[39m.\u001b[39mImage\u001b[39m.\u001b[39mnew(\u001b[39m\"\u001b[39m\u001b[39mRGBA\u001b[39m\u001b[39m\"\u001b[39m, ginfo\u001b[39m.\u001b[39mshape[::\u001b[39m-\u001b[39m\u001b[39m1\u001b[39m])\n\u001b[0;32m--> 685\u001b[0m labels, bounds \u001b[39m=\u001b[39m cgrid\u001b[39m.\u001b[39;49mdraw_labels(canvas, linfo, fname\u001b[39m=\u001b[39;49margs\u001b[39m.\u001b[39;49mfont, fsize\u001b[39m=\u001b[39;49margs\u001b[39m.\u001b[39;49mfont_size, color\u001b[39m=\u001b[39;49margs\u001b[39m.\u001b[39;49mfont_color, return_bounds\u001b[39m=\u001b[39;49m\u001b[39mTrue\u001b[39;49;00m)\n\u001b[1;32m    686\u001b[0m \u001b[39mreturn\u001b[39;00m labels, bounds\n",
      "File \u001b[0;32m~/.local/lib/python3.10/site-packages/pixell/cgrid.py:234\u001b[0m, in \u001b[0;36mdraw_labels\u001b[0;34m(img, label_pos, fname, fsize, fmt, color, return_bounds)\u001b[0m\n\u001b[1;32m    232\u001b[0m draw \u001b[39m=\u001b[39m ImageDraw\u001b[39m.\u001b[39mDraw(img)\n\u001b[1;32m    233\u001b[0m \u001b[39mfor\u001b[39;00m label, box \u001b[39min\u001b[39;00m \u001b[39mzip\u001b[39m(labels, boxes):\n\u001b[0;32m--> 234\u001b[0m \tdraw\u001b[39m.\u001b[39;49mtext(box[\u001b[39m0\u001b[39;49m], label, col, font\u001b[39m=\u001b[39;49mfont)\n\u001b[1;32m    235\u001b[0m \u001b[39mif\u001b[39;00m return_bounds:\n\u001b[1;32m    236\u001b[0m \t\u001b[39mreturn\u001b[39;00m img, bounds\n",
      "File \u001b[0;32m/cita/modules/python/3.10.2/lib/python3.10/site-packages/PIL/ImageDraw.py:483\u001b[0m, in \u001b[0;36mImageDraw.text\u001b[0;34m(self, xy, text, fill, font, anchor, spacing, align, direction, features, language, stroke_width, stroke_fill, embedded_color, *args, **kwargs)\u001b[0m\n\u001b[1;32m    480\u001b[0m     draw_text(ink, \u001b[39m0\u001b[39m)\n\u001b[1;32m    481\u001b[0m \u001b[39melse\u001b[39;00m:\n\u001b[1;32m    482\u001b[0m     \u001b[39m# Only draw normal text\u001b[39;00m\n\u001b[0;32m--> 483\u001b[0m     draw_text(ink)\n",
      "File \u001b[0;32m/cita/modules/python/3.10.2/lib/python3.10/site-packages/PIL/ImageDraw.py:428\u001b[0m, in \u001b[0;36mImageDraw.text.<locals>.draw_text\u001b[0;34m(ink, stroke_width, stroke_offset)\u001b[0m\n\u001b[1;32m    426\u001b[0m coord \u001b[39m=\u001b[39m xy\n\u001b[1;32m    427\u001b[0m \u001b[39mtry\u001b[39;00m:\n\u001b[0;32m--> 428\u001b[0m     mask, offset \u001b[39m=\u001b[39m font\u001b[39m.\u001b[39;49mgetmask2(\n\u001b[1;32m    429\u001b[0m         text,\n\u001b[1;32m    430\u001b[0m         mode,\n\u001b[1;32m    431\u001b[0m         direction\u001b[39m=\u001b[39;49mdirection,\n\u001b[1;32m    432\u001b[0m         features\u001b[39m=\u001b[39;49mfeatures,\n\u001b[1;32m    433\u001b[0m         language\u001b[39m=\u001b[39;49mlanguage,\n\u001b[1;32m    434\u001b[0m         stroke_width\u001b[39m=\u001b[39;49mstroke_width,\n\u001b[1;32m    435\u001b[0m         anchor\u001b[39m=\u001b[39;49manchor,\n\u001b[1;32m    436\u001b[0m         ink\u001b[39m=\u001b[39;49mink,\n\u001b[1;32m    437\u001b[0m         \u001b[39m*\u001b[39;49margs,\n\u001b[1;32m    438\u001b[0m         \u001b[39m*\u001b[39;49m\u001b[39m*\u001b[39;49mkwargs,\n\u001b[1;32m    439\u001b[0m     )\n\u001b[1;32m    440\u001b[0m     coord \u001b[39m=\u001b[39m coord[\u001b[39m0\u001b[39m] \u001b[39m+\u001b[39m offset[\u001b[39m0\u001b[39m], coord[\u001b[39m1\u001b[39m] \u001b[39m+\u001b[39m offset[\u001b[39m1\u001b[39m]\n\u001b[1;32m    441\u001b[0m \u001b[39mexcept\u001b[39;00m \u001b[39mAttributeError\u001b[39;00m:\n",
      "File \u001b[0;32m/cita/modules/python/3.10.2/lib/python3.10/site-packages/PIL/ImageFont.py:665\u001b[0m, in \u001b[0;36mFreeTypeFont.getmask2\u001b[0;34m(self, text, mode, fill, direction, features, language, stroke_width, anchor, ink, *args, **kwargs)\u001b[0m\n\u001b[1;32m    663\u001b[0m Image\u001b[39m.\u001b[39m_decompression_bomb_check(size)\n\u001b[1;32m    664\u001b[0m im \u001b[39m=\u001b[39m fill(\u001b[39m\"\u001b[39m\u001b[39mRGBA\u001b[39m\u001b[39m\"\u001b[39m \u001b[39mif\u001b[39;00m mode \u001b[39m==\u001b[39m \u001b[39m\"\u001b[39m\u001b[39mRGBA\u001b[39m\u001b[39m\"\u001b[39m \u001b[39melse\u001b[39;00m \u001b[39m\"\u001b[39m\u001b[39mL\u001b[39m\u001b[39m\"\u001b[39m, size, \u001b[39m0\u001b[39m)\n\u001b[0;32m--> 665\u001b[0m \u001b[39mself\u001b[39;49m\u001b[39m.\u001b[39;49mfont\u001b[39m.\u001b[39;49mrender(\n\u001b[1;32m    666\u001b[0m     text, im\u001b[39m.\u001b[39;49mid, mode, direction, features, language, stroke_width, ink\n\u001b[1;32m    667\u001b[0m )\n\u001b[1;32m    668\u001b[0m \u001b[39mreturn\u001b[39;00m im, offset\n",
      "\u001b[0;31mKeyboardInterrupt\u001b[0m: "
     ]
    }
   ],
   "source": [
    "vmap = eshow(np.average(var_maps_y, axis=0), **{\"colorbar\":True, \"downgrade\":20})\n",
    "# vmap.draw_colorbar()"
   ]
  },
  {
   "cell_type": "code",
   "execution_count": null,
   "id": "c0de0ed9",
   "metadata": {},
   "outputs": [],
   "source": [
    "# hp.mollview(np.average(var_maps_noise, axis=0))"
   ]
  },
  {
   "cell_type": "code",
   "execution_count": null,
   "id": "3cdc8476",
   "metadata": {},
   "outputs": [],
   "source": [
    "cmap = plt.cm.get_cmap('prism',60)\n",
    "fig = plt.figure(figsize=(8,6))\n",
    "ax = fig.add_subplot(111, projection=\"mollweide\")\n",
    "for i in range(48):\n",
    "    in_reg = region_ids[:,1] == i\n",
    "    racoord = coord.Angle(ra[in_reg]*u.degree)\n",
    "    racoord = racoord.wrap_at(180*u.degree)\n",
    "    dec_coord = coord.Angle(dec[in_reg]*u.degree)\n",
    "    ax.scatter(racoord.radian,dec_coord.radian,color=cmap(i), s=1)\n",
    "ax.set_xticklabels(['14h','16h','18h','20h','22h','0h','2h','4h','6h','8h','10h'])\n",
    "ax.grid(True)\n",
    "ax.set_xlabel(\"RA\")\n",
    "ax.set_ylabel(\"Dec\")"
   ]
  },
  {
   "cell_type": "code",
   "execution_count": 15,
   "id": "bc34aefd",
   "metadata": {},
   "outputs": [
    {
     "data": {
      "text/plain": [
       "array([[ 0.        ,  1.16897049],\n",
       "       [ 1.        ,  1.17289996],\n",
       "       [ 2.        ,  1.15404387],\n",
       "       [ 3.        ,  0.94678903],\n",
       "       [ 4.        ,  0.70193131],\n",
       "       [ 5.        ,  0.86712162],\n",
       "       [ 6.        ,  0.69945122],\n",
       "       [ 7.        ,  0.70337117],\n",
       "       [ 8.        ,  1.32533075],\n",
       "       [ 9.        ,  1.22003835],\n",
       "       [10.        ,  0.96375283],\n",
       "       [11.        ,  1.15751372],\n",
       "       [12.        ,  0.62127485],\n",
       "       [13.        ,  0.85148169],\n",
       "       [14.        ,  0.60666126],\n",
       "       [15.        ,  1.04055235],\n",
       "       [16.        ,  1.12119695],\n",
       "       [17.        ,  1.0922598 ],\n",
       "       [18.        ,  1.11450928],\n",
       "       [19.        ,  0.95949886],\n",
       "       [20.        ,  1.18822865],\n",
       "       [21.        ,  1.00756369],\n",
       "       [22.        ,  1.13247638],\n",
       "       [23.        ,  1.18308192]])"
      ]
     },
     "execution_count": 15,
     "metadata": {},
     "output_type": "execute_result"
    }
   ],
   "source": [
    "# stack the region id and weights list side-by-side\n",
    "save_list = np.column_stack((reglist, weights_y))\n",
    "save_list"
   ]
  },
  {
   "cell_type": "code",
   "execution_count": 16,
   "id": "e0f4abe6",
   "metadata": {},
   "outputs": [],
   "source": [
    "np.savetxt('weights_24_regions_ACT_ilc_SZ_deproj_cib_yy_DES_redmapper_lambdagt20.txt', save_list)"
   ]
  },
  {
   "cell_type": "code",
   "execution_count": null,
   "id": "48a2da21",
   "metadata": {},
   "outputs": [],
   "source": [
    "stop"
   ]
  },
  {
   "cell_type": "code",
   "execution_count": null,
   "id": "a80a7c2d",
   "metadata": {},
   "outputs": [],
   "source": [
    "# For some reason these give slightly different maps but reasonably similar variances. Not totally sure why\n",
    "# the pixell routine is faster\n",
    "\n",
    "def get_window(scale):\n",
    "    theta = np.linspace(0, np.deg2rad(scale))\n",
    "    beam  = np.ones(len(theta))\n",
    "    beam = hp.beam2bl(beam, theta, nside*2)\n",
    "    return beam\n",
    "\n",
    "def smooth_map_pixell(scale):\n",
    "    beam = get_window(scale)\n",
    "    ymap_filt = curvedsky.filter(ymap, beam, lmax = nside*3)\n",
    "    return ymap_filt\n",
    "\n",
    "def smooth_map(scale):\n",
    "    ''' Smooths map with a certain scale using a top hat. Scale is set in degrees.'''\n",
    "\n",
    "    beam = get_window(scale)\n",
    "\n",
    "    # Smooth the map\n",
    "    smoothed_hp = hp.sphtfunc.smoothing(ymap_hp, beam_window=beam)\n",
    "\n",
    "    # Convert back to enmap\n",
    "    ymap_smoothed = reproject.enmap_from_healpix(smoothed_hp, mask.shape, mask.wcs, rot=None)\n",
    "    return ymap_smoothed"
   ]
  },
  {
   "cell_type": "code",
   "execution_count": null,
   "id": "8fff70fd",
   "metadata": {},
   "outputs": [],
   "source": [
    "ymap_filt.shape"
   ]
  },
  {
   "cell_type": "code",
   "execution_count": null,
   "id": "751a6fc5",
   "metadata": {},
   "outputs": [],
   "source": [
    "# Test on smaller patches\n",
    "from numba import jit\n",
    "\n",
    "@jit\n",
    "def variance_map(imap, mask):\n",
    "    '''Generates a variance map which calculates the variance of patches 100 x 100 pixels'''\n",
    "    shape = imap.shape\n",
    "    var_map = enmap.zeros(imap.shape, imap.wcs)\n",
    "    patch_size = 100\n",
    "    x,y = int(shape[1]/patch_size), int(shape[2]/patch_size)\n",
    "    for i in range(x):\n",
    "        for j in range(y):\n",
    "            v = np.nanvar(mask[i*patch_size:(i+1)*patch_size, \n",
    "                               j*patch_size:(j+1)*patch_size] * \\\n",
    "                              imap[0][i*patch_size:(i+1)*patch_size, \n",
    "                                      j*patch_size:(j+1)*patch_size])\n",
    "            \n",
    "            var_map[i*patch_size:(i+1)*patch_size,\n",
    "                    j*patch_size:(j+1)*patch_size] = v\n",
    "\n",
    "    return var_map\n",
    "\n",
    "def variance_map(imap, mask, minmax_list=None, centers_list=None, patch_size=100):\n",
    "    '''Generates a variance map which calculates the variance of patches 100 x 100 pixels'''\n",
    "    '''Min/max list is a list of [ra_min, ra_max, dec_min, dec_max] for every patch'''\n",
    "    '''Centers_list is a list of centers for each patch. Cannot input both minmax and centers lists'''\n",
    "    '''If Centers_list is not none, must also input patch size else 100x100 is assumed'''\n",
    "    shape,wcs = imap.shape, imap.wcs\n",
    "    var_map = enmap.zeros(imap.shape, imap.wcs)\n",
    "    variances = []\n",
    "    if minmax_list is not None:\n",
    "        d=0\n",
    "        for patch in minmax_list:\n",
    "            ra_min,ra_max,dec_min,dec_max=np.deg2rad(patch[0]),np.deg2rad(patch[1]),np.deg2rad(patch[2]),np.deg2rad(patch[3])\n",
    "            box   = np.array([[dec_min,ra_min],[dec_max,ra_max]]) # in radians\n",
    "            omap  = imap.submap(box)\n",
    "            omask = mask.submap(box)\n",
    "            v = np.nanvar(omask*omap)\n",
    "            variances.append(v)\n",
    "            ll = enmap.sky2pix(shape,wcs,[dec_min,ra_max]).astype(int)\n",
    "            ur = enmap.sky2pix(shape,wcs,[dec_max,ra_min]).astype(int)\n",
    "            print(f'Patch {d}')\n",
    "            print(ll)\n",
    "            print(ur)\n",
    "            var_map[ll[0]:ur[0],ll[1]:ur[1]] = v\n",
    "            d+=1\n",
    "            \n",
    "#     elif centers_list is not None:\n",
    "    \n",
    "    else:\n",
    "        x,y = int(shape[1]/patch_size), int(shape[2]/patch_size)\n",
    "        for i in range(x):\n",
    "            for j in range(y):\n",
    "                v = np.nanvar(mask[i*patch_size:(i+1)*patch_size, \n",
    "                                   j*patch_size:(j+1)*patch_size] * \\\n",
    "                                  imap[0][i*patch_size:(i+1)*patch_size, \n",
    "                                          j*patch_size:(j+1)*patch_size])\n",
    "\n",
    "                var_map[i*patch_size:(i+1)*patch_size,\n",
    "                        j*patch_size:(j+1)*patch_size] = v\n",
    "\n",
    "    return var_map"
   ]
  },
  {
   "cell_type": "code",
   "execution_count": null,
   "id": "f455f43c",
   "metadata": {},
   "outputs": [],
   "source": [
    "eshow(var_map*mask/map_var_smooth, **{\"colorbar\":True, \"downgrade\":10})"
   ]
  },
  {
   "cell_type": "code",
   "execution_count": null,
   "id": "6ae29cca",
   "metadata": {},
   "outputs": [],
   "source": [
    "# The pixell routine is faster here but they don't completely agree\n",
    "# ymap_smoothed = smooth_map(.35)\n",
    "ymap_filt = smooth_map_pixell(.35)"
   ]
  },
  {
   "cell_type": "code",
   "execution_count": null,
   "id": "05a2192d",
   "metadata": {},
   "outputs": [],
   "source": [
    "var_map = variance_map(ymap_filt,mask,minmax_list = [[5,10,-5,5],[280,30,-30,-20]])"
   ]
  },
  {
   "cell_type": "code",
   "execution_count": null,
   "id": "a03998ec",
   "metadata": {},
   "outputs": [],
   "source": [
    "# Plot stamps comparing the two routines\n",
    "\n",
    "plt.subplot(1, 3, 1)\n",
    "plt.title(\"Pixell smoothing\")\n",
    "plt.imshow((ymap_filt*mask)[2000:2500,14000:14500],cmap='gray', vmax = 2e-10, vmin = -2e-10)\n",
    "\n",
    "plt.subplot(1, 3, 2)\n",
    "plt.title(\"Healpy smoothing\")\n",
    "plt.imshow((ymap_smoothed*mask)[0,2000:2500,14000:14500],cmap='gray', vmax = 2e-10, vmin = -2e-10)\n",
    "\n",
    "plt.subplot(1, 3, 3)\n",
    "plt.title(\"Difference\")\n",
    "plt.imshow(((ymap_smoothed-ymap_filt)*mask)[0,2000:2500,14000:14500],cmap='gray', vmax = 2e-10, vmin = -2e-10)\n",
    "\n",
    "plt.colorbar()"
   ]
  },
  {
   "cell_type": "code",
   "execution_count": null,
   "id": "7d8e63de",
   "metadata": {},
   "outputs": [],
   "source": [
    "# Get variance of smoothed and un-smoothed maps\n",
    "\n",
    "map_var = np.nanvar(ymap*mask)\n",
    "map_var_smooth = np.nanvar(ymap_smoothed*mask)\n",
    "map_var_smooth_pixell = np.nanvar(ymap_filt*mask)\n",
    "\n",
    "print(\"The variance of the unsmoothed maps is {:.2e} \\n \\\n",
    "  while the variance for the map smoothed with healpy is {:.2e} \\n \\\n",
    "  and the variance for the map smoothed with pixell is {:.2e}\".format(\\\n",
    "                                      map_var, map_var_smooth, map_var_smooth_pixell))"
   ]
  },
  {
   "cell_type": "code",
   "execution_count": null,
   "id": "93957411",
   "metadata": {},
   "outputs": [],
   "source": [
    "# Test smoothing at different scales \n",
    "scales = [1/60, 5/60, 10/60, 20/60, 30/60, 1, 2]\n",
    "variances = [] # collect total variance of map\n",
    "ratios = [] # collcet variance of specific patch\n",
    "for i in scales:\n",
    "    ymap_smooth = smooth_map_pixell(i)\n",
    "    map_var_smooth = np.nanvar(ymap_smooth*mask)\n",
    "    variances.append(map_var_smooth)\n",
    "    ratios.append(np.nanvar((ymap_smooth*mask)[2000:4000,12000:14000])/map_var_smooth)"
   ]
  },
  {
   "cell_type": "code",
   "execution_count": null,
   "id": "1e889e71",
   "metadata": {
    "scrolled": false
   },
   "outputs": [],
   "source": [
    "plt.plot(scales, variances)\n",
    "plt.yscale('log')\n",
    "plt.ylabel(\"Variance of Smoothed/Unsmoothed map\")\n",
    "plt.xlabel(\"Smoothing scale [degrees]\")\n",
    "plt.title(\"Variance of the whole map as a function of smoothing scale\", loc='center',pad=20)\n",
    "plt.show()\n",
    "\n",
    "plt.plot(scales, ratios)\n",
    "plt.title(\"Variance of a specific patch of the map as a function of smoothing scale\", loc = \"center\",pad=20)\n",
    "plt.ylabel(\"Variance of patch/whole map\")\n",
    "plt.xlabel(\"Smoothing scale [degrees]\")"
   ]
  },
  {
   "cell_type": "code",
   "execution_count": null,
   "id": "7e4f623d",
   "metadata": {},
   "outputs": [],
   "source": [
    "# calculate the variance of patches of the smoothed map\n",
    "var_map = variance_map(ymap_smoothed, mask)"
   ]
  },
  {
   "cell_type": "code",
   "execution_count": null,
   "id": "d82420bb",
   "metadata": {
    "scrolled": true
   },
   "outputs": [],
   "source": [
    "eshow(var_map*mask/map_var_smooth, **{\"colorbar\":True, \"downgrade\":10})"
   ]
  },
  {
   "cell_type": "code",
   "execution_count": null,
   "id": "7ac03d72",
   "metadata": {},
   "outputs": [],
   "source": []
  }
 ],
 "metadata": {
  "kernelspec": {
   "display_name": "Python 3 (ipykernel)",
   "language": "python",
   "name": "python3"
  },
  "language_info": {
   "codemirror_mode": {
    "name": "ipython",
    "version": 3
   },
   "file_extension": ".py",
   "mimetype": "text/x-python",
   "name": "python",
   "nbconvert_exporter": "python",
   "pygments_lexer": "ipython3",
   "version": "3.10.2"
  }
 },
 "nbformat": 4,
 "nbformat_minor": 5
}
