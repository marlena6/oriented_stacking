{
 "cells": [
  {
   "cell_type": "code",
   "execution_count": 1,
   "metadata": {},
   "outputs": [],
   "source": [
    "import numpy as np\n",
    "\n",
    "from scipy.stats import shapiro\n",
    "from numpy.random import normal\n",
    "\n",
    "\n",
    "def KStest_raderrs(vals,err,mean):\n",
    "    '''Check of whether the data in radial bins are normally distributed\n",
    "    Input is the specific values of the profile at a given radius (not specified)\n",
    "    and the assumed Gaussian mean and error of the average.\n",
    "    Output is the value of the KS statistic and the p-value'''\n",
    "    from scipy.stats import ks_2samp\n",
    "\n",
    "    data = normal(loc=mean, scale=err, size=len(vals))\n",
    "    stat, pval = ks_2samp(vals, data)\n",
    "\n",
    "    if pval < 0.05:\n",
    "        print(f'p-val is {pval}, so not the same distribution buddy')\n",
    "    else:\n",
    "        print(f'p-val is {pval}, so these are from the same distribution')\n",
    "\n",
    "    return stat, pval"
   ]
  },
  {
   "cell_type": "markdown",
   "metadata": {},
   "source": [
    "### Testing for two different distributions "
   ]
  },
  {
   "cell_type": "code",
   "execution_count": 2,
   "metadata": {},
   "outputs": [
    {
     "name": "stdout",
     "output_type": "stream",
     "text": [
      "p-val is 1.7527190839835072e-06, so not the same distribution buddy\n"
     ]
    },
    {
     "data": {
      "image/png": "[encoded data removed]",
      "text/plain": [
       "<Figure size 576x432 with 1 Axes>"
      ]
     },
     "metadata": {
      "needs_background": "light"
     },
     "output_type": "display_data"
    }
   ],
   "source": [
    "import matplotlib.pyplot as plt\n",
    "fig = plt.figure(figsize=(8,6))\n",
    "vals = normal(loc=0.1, scale=0.5, size=100)\n",
    "mean = np.mean(vals)\n",
    "std = np.std(vals)\n",
    "vals2 = normal(loc=0.5, scale=0.3, size=100)\n",
    "plt.hist(vals, label='Distribution 1')\n",
    "plt.hist(vals2, label='Distribution 2')\n",
    "plt.legend(loc='best')\n",
    "ks, pval = KStest_raderrs(vals2,std,mean)\n"
   ]
  },
  {
   "cell_type": "markdown",
   "metadata": {},
   "source": [
    "### Now testing for a set of two vectors from the same distribution\n"
   ]
  },
  {
   "cell_type": "code",
   "execution_count": 3,
   "metadata": {},
   "outputs": [
    {
     "name": "stdout",
     "output_type": "stream",
     "text": [
      "p-val is 0.11119526053829192, so these are from the same distribution\n"
     ]
    },
    {
     "data": {
      "image/png": "[encoded data removed]",
      "text/plain": [
       "<Figure size 576x432 with 1 Axes>"
      ]
     },
     "metadata": {
      "needs_background": "light"
     },
     "output_type": "display_data"
    }
   ],
   "source": [
    "import matplotlib.pyplot as plt\n",
    "fig = plt.figure(figsize=(8,6))\n",
    "vals = normal(loc=0.5, scale=0.3, size=100)\n",
    "mean = np.mean(vals)\n",
    "std = np.std(vals)\n",
    "vals2 = normal(loc=0.5, scale=0.3, size=100)\n",
    "plt.hist(vals, label='Distribution 1')\n",
    "plt.hist(vals2, label='Distribution 2')\n",
    "plt.legend(loc='best')\n",
    "ks, pval = KStest_raderrs(vals2,std,mean)\n"
   ]
  },
  {
   "cell_type": "code",
   "execution_count": null,
   "metadata": {},
   "outputs": [],
   "source": []
  }
 ],
 "metadata": {
  "kernelspec": {
   "display_name": "act_notebooks_renee",
   "language": "python",
   "name": "python3"
  },
  "language_info": {
   "codemirror_mode": {
    "name": "ipython",
    "version": 3
   },
   "file_extension": ".py",
   "mimetype": "text/x-python",
   "name": "python",
   "nbconvert_exporter": "python",
   "pygments_lexer": "ipython3",
   "version": "3.8.5"
  },
  "orig_nbformat": 4
 },
 "nbformat": 4,
 "nbformat_minor": 2
}
