{
 "cells": [
  {
   "cell_type": "code",
   "execution_count": 1,
   "metadata": {},
   "outputs": [],
   "source": [
    "import matplotlib.pyplot as plt\n",
    "import sys\n",
    "import matplotlib\n",
    "import numpy as np\n",
    "import os\n",
    "from astropy.io import fits\n",
    "import astropy.units as u\n",
    "from astropy.cosmology import Planck18 as cosmo, z_at_value\n",
    "import coop_post_processing as cpp\n",
    "from scipy import ndimage\n",
    "import coop_setup_funcs as csf\n",
    "import warnings\n",
    "from astropy.visualization import quantity_support\n",
    "warnings.filterwarnings('ignore')\n",
    "from matplotlib import rc\n",
    "rc('font',**{'family':'sans-serif','sans-serif':['Helvetica']})\n",
    "## for Palatino and other serif fonts use:\n",
    "#rc('font',**{'family':'serif','serif':['Palatino']})\n",
    "rc('text', usetex=False)\n",
    "# set plot params\n",
    "import matplotlib as mpl\n",
    "import scipy as sp\n",
    "mpl.font = {'family' : 'normal',\n",
    "        'weight' : 'normal',\n",
    "        'size'   : 3}\n",
    "plt.rcParams.update({'font.size': 14})\n",
    "mpl.rcParams['figure.figsize'] = [8.0, 6.0]\n",
    "import healpy as hp\n",
    "\n",
    "import matplotlib.patches as mpatches\n",
    "from matplotlib.lines import Line2D\n",
    "import stats as st\n",
    "dir='/mnt/scratch-lustre/mlokken/stacking/ACTxDES_paper2/'"
   ]
  },
  {
   "cell_type": "code",
   "execution_count": 2,
   "metadata": {},
   "outputs": [
    {
     "name": "stdout",
     "output_type": "stream",
     "text": [
      "0.19985555905328484 redshift 0.3565167560560754 redshift\n",
      "0.3565167560560754 redshift 0.5289988643902372 redshift\n",
      "0.5289988643902372 redshift 0.7215854982816572 redshift\n",
      "0.7215854982816572 redshift 0.9396687416637612 redshift\n"
     ]
    }
   ],
   "source": [
    "# Define the distance bins\n",
    "dbins = [[893, 1393], [1493, 1993], [2093, 2593], [2693,3193]]\n",
    "for dbin in dbins:\n",
    "    print(z_at_value(cosmo.comoving_distance, (dbin[0]-50)*u.Mpc),z_at_value(cosmo.comoving_distance, (dbin[1]+50)*u.Mpc))\n",
    "\n",
    "zbins = ['0pt20_0pt36', '0pt36_0pt53', '0pt53_0pt72', '0pt72_0pt94'] # the z bins for number density maps\n",
    "#actpath  = \"/mnt/scratch-lustre/mlokken/stacking/ACTxDES_paper2/\"\n",
    "# buzzpath = \"/mnt/scratch-lustre/mlokken/stacking/Buzzard_paper2/\"\n",
    "# mask =  \"/mnt/raid-cita/mlokken/data/masks/y3_gold_2.2.1_RING_joint_redmagic_v0.5.1_wide_maglim_v2.2_mask_hpx_4096.fits\""
   ]
  },
  {
   "attachments": {},
   "cell_type": "markdown",
   "metadata": {},
   "source": [
    "## Before running anything involving $\\delta_g$, get the $n_g$ means"
   ]
  },
  {
   "cell_type": "code",
   "execution_count": 3,
   "metadata": {},
   "outputs": [],
   "source": [
    "#I will save them here because the above step takes awhile each time\n",
    "gmeans_des = [0.012851488746377471,\n",
    " 0.01384506870003849,\n",
    " 0.015309714690043979,\n",
    " 0.02416508546990377] \n",
    "sigmas_des = [0.11411745657892501,\n",
    " 0.11853421305018025,\n",
    " 0.12470429494305643,\n",
    " 0.15656805187048936]\n",
    "\n",
    "gmeans_buzz = [0.02068857930314309,\n",
    " 0.023266196557397364,\n",
    " 0.025528530068527806,\n",
    " 0.04170948736146642]\n",
    "sigmas_buzz = [0.14533079924726627,\n",
    " 0.15487514164457497,\n",
    " 0.16134637386239412,\n",
    " 0.20581860847657216]"
   ]
  },
  {
   "attachments": {},
   "cell_type": "markdown",
   "metadata": {},
   "source": [
    "## First we will work with the fiducial setup:\n",
    "- $\\nu>2$, $e>0.3$\n",
    "- 24 regions\n",
    "- $\\lambda>20$\n",
    "- Orient with Hessian, X and Y positive gradients flipped towards horizontal / vertical\n",
    "- 75 \\% of Maglim data for orientation, 25 \\% goes into number density maps"
   ]
  },
  {
   "cell_type": "code",
   "execution_count": 4,
   "metadata": {},
   "outputs": [],
   "source": [
    "nu_e_cuts = True\n",
    "if nu_e_cuts:\n",
    "    pt_selection_str = 'nugt2_egtpt3_'\n",
    "else:\n",
    "    pt_selection_str = ''\n",
    "nreg = 24\n"
   ]
  },
  {
   "attachments": {},
   "cell_type": "markdown",
   "metadata": {},
   "source": [
    "## Null test: is the number of profiles beyond 1 sigma equal to 68% of the total number of profiles?"
   ]
  },
  {
   "cell_type": "code",
   "execution_count": 15,
   "metadata": {},
   "outputs": [
    {
     "name": "stdout",
     "output_type": "stream",
     "text": [
      "5\n",
      "rvals [ 2.88659794  8.52233677 14.1580756  19.79381443 25.42955326 31.0652921\n",
      " 36.70103093]\n",
      "KS test for m = 0\n",
      "Distrib is same? True for 2.88659793814433\n",
      "Distrib is same? True for 8.52233676975945\n",
      "Distrib is same? True for 14.158075601374568\n",
      "Distrib is same? True for 19.79381443298969\n",
      "Distrib is same? True for 25.429553264604813\n",
      "Distrib is same? True for 31.06529209621993\n",
      "Distrib is same? True for 36.701030927835056\n",
      "---------\n",
      "KS test for m = 1\n",
      "Distrib is same? True for 2.88659793814433\n",
      "Distrib is same? False for 8.52233676975945\n",
      "Distrib is same? True for 14.158075601374568\n",
      "Distrib is same? True for 19.79381443298969\n",
      "Distrib is same? True for 25.429553264604813\n",
      "Distrib is same? True for 31.06529209621993\n",
      "Distrib is same? True for 36.701030927835056\n",
      "---------\n",
      "KS test for m = 2\n",
      "Distrib is same? True for 2.88659793814433\n",
      "Distrib is same? True for 8.52233676975945\n",
      "Distrib is same? True for 14.158075601374568\n",
      "Distrib is same? True for 19.79381443298969\n",
      "Distrib is same? True for 25.429553264604813\n",
      "Distrib is same? True for 31.06529209621993\n",
      "Distrib is same? True for 36.701030927835056\n",
      "---------\n",
      "KS test for m = 3\n",
      "Distrib is same? True for 2.88659793814433\n",
      "Distrib is same? True for 8.52233676975945\n",
      "Distrib is same? True for 14.158075601374568\n",
      "Distrib is same? True for 19.79381443298969\n",
      "Distrib is same? True for 25.429553264604813\n",
      "Distrib is same? True for 31.06529209621993\n",
      "Distrib is same? True for 36.701030927835056\n",
      "---------\n",
      "KS test for m = 4\n",
      "Distrib is same? True for 2.88659793814433\n",
      "Distrib is same? True for 8.52233676975945\n",
      "Distrib is same? True for 14.158075601374568\n",
      "Distrib is same? True for 19.79381443298969\n",
      "Distrib is same? True for 25.429553264604813\n",
      "Distrib is same? True for 31.06529209621993\n",
      "Distrib is same? True for 36.701030927835056\n",
      "---------\n"
     ]
    },
    {
     "data": {
      "image/png": "[encoded data removed]",
      "text/plain": [
       "<Figure size 576x432 with 2 Axes>"
      ]
     },
     "metadata": {
      "needs_background": "light"
     },
     "output_type": "display_data"
    },
    {
     "name": "stdout",
     "output_type": "stream",
     "text": [
      "5\n",
      "rvals [ 2.92134831  8.53932584 14.15730337 19.7752809  25.39325843 31.01123596\n",
      " 36.62921348]\n",
      "KS test for m = 0\n",
      "Distrib is same? True for 2.9213483146067416\n",
      "Distrib is same? True for 8.539325842696629\n",
      "Distrib is same? True for 14.157303370786517\n",
      "Distrib is same? True for 19.775280898876403\n",
      "Distrib is same? True for 25.39325842696629\n",
      "Distrib is same? True for 31.011235955056183\n",
      "Distrib is same? True for 36.62921348314607\n",
      "---------\n",
      "KS test for m = 1\n",
      "Distrib is same? True for 2.9213483146067416\n",
      "Distrib is same? True for 8.539325842696629\n",
      "Distrib is same? True for 14.157303370786517\n",
      "Distrib is same? True for 19.775280898876403\n",
      "Distrib is same? True for 25.39325842696629\n",
      "Distrib is same? True for 31.011235955056183\n",
      "Distrib is same? True for 36.62921348314607\n",
      "---------\n",
      "KS test for m = 2\n",
      "Distrib is same? True for 2.9213483146067416\n",
      "Distrib is same? True for 8.539325842696629\n",
      "Distrib is same? True for 14.157303370786517\n",
      "Distrib is same? True for 19.775280898876403\n",
      "Distrib is same? True for 25.39325842696629\n",
      "Distrib is same? True for 31.011235955056183\n",
      "Distrib is same? True for 36.62921348314607\n",
      "---------\n",
      "KS test for m = 3\n",
      "Distrib is same? True for 2.9213483146067416\n",
      "Distrib is same? True for 8.539325842696629\n",
      "Distrib is same? True for 14.157303370786517\n",
      "Distrib is same? True for 19.775280898876403\n",
      "Distrib is same? True for 25.39325842696629\n",
      "Distrib is same? True for 31.011235955056183\n",
      "Distrib is same? True for 36.62921348314607\n",
      "---------\n",
      "KS test for m = 4\n",
      "Distrib is same? True for 2.9213483146067416\n",
      "Distrib is same? True for 8.539325842696629\n",
      "Distrib is same? True for 14.157303370786517\n",
      "Distrib is same? True for 19.775280898876403\n",
      "Distrib is same? True for 25.39325842696629\n",
      "Distrib is same? True for 31.011235955056183\n",
      "Distrib is same? True for 36.62921348314607\n",
      "---------\n"
     ]
    },
    {
     "data": {
      "image/png": "[encoded data removed]",
      "text/plain": [
       "<Figure size 576x432 with 2 Axes>"
      ]
     },
     "metadata": {
      "needs_background": "light"
     },
     "output_type": "display_data"
    },
    {
     "name": "stdout",
     "output_type": "stream",
     "text": [
      "5\n",
      "rvals [ 2.8125  8.125  13.4375 18.75   24.0625 29.375  34.6875]\n",
      "KS test for m = 0\n",
      "Distrib is same? True for 2.8125\n",
      "Distrib is same? True for 8.125\n",
      "Distrib is same? True for 13.4375\n",
      "Distrib is same? True for 18.75\n",
      "Distrib is same? True for 24.0625\n",
      "Distrib is same? True for 29.375\n",
      "Distrib is same? True for 34.6875\n",
      "---------\n",
      "KS test for m = 1\n",
      "Distrib is same? True for 2.8125\n",
      "Distrib is same? True for 8.125\n",
      "Distrib is same? True for 13.4375\n",
      "Distrib is same? True for 18.75\n",
      "Distrib is same? True for 24.0625\n",
      "Distrib is same? True for 29.375\n",
      "Distrib is same? True for 34.6875\n",
      "---------\n",
      "KS test for m = 2\n",
      "Distrib is same? True for 2.8125\n",
      "Distrib is same? True for 8.125\n",
      "Distrib is same? True for 13.4375\n",
      "Distrib is same? True for 18.75\n",
      "Distrib is same? True for 24.0625\n",
      "Distrib is same? True for 29.375\n",
      "Distrib is same? True for 34.6875\n",
      "---------\n",
      "KS test for m = 3\n",
      "Distrib is same? True for 2.8125\n",
      "Distrib is same? True for 8.125\n",
      "Distrib is same? True for 13.4375\n",
      "Distrib is same? True for 18.75\n",
      "Distrib is same? True for 24.0625\n",
      "Distrib is same? True for 29.375\n",
      "Distrib is same? True for 34.6875\n",
      "---------\n",
      "KS test for m = 4\n",
      "Distrib is same? True for 2.8125\n",
      "Distrib is same? True for 8.125\n",
      "Distrib is same? True for 13.4375\n",
      "Distrib is same? True for 18.75\n",
      "Distrib is same? True for 24.0625\n",
      "Distrib is same? True for 29.375\n",
      "Distrib is same? True for 34.6875\n",
      "---------\n"
     ]
    },
    {
     "data": {
      "image/png": "[encoded data removed]",
      "text/plain": [
       "<Figure size 576x432 with 2 Axes>"
      ]
     },
     "metadata": {
      "needs_background": "light"
     },
     "output_type": "display_data"
    },
    {
     "name": "stdout",
     "output_type": "stream",
     "text": [
      "5\n",
      "rvals [ 2.8  8.  13.2 18.4 23.6 28.8 34. ]\n",
      "KS test for m = 0\n",
      "Distrib is same? True for 2.8\n",
      "Distrib is same? True for 8.0\n",
      "Distrib is same? True for 13.2\n",
      "Distrib is same? True for 18.400000000000002\n",
      "Distrib is same? True for 23.6\n",
      "Distrib is same? True for 28.799999999999997\n",
      "Distrib is same? True for 34.0\n",
      "---------\n",
      "KS test for m = 1\n",
      "Distrib is same? True for 2.8\n",
      "Distrib is same? True for 8.0\n",
      "Distrib is same? True for 13.2\n",
      "Distrib is same? True for 18.400000000000002\n",
      "Distrib is same? True for 23.6\n",
      "Distrib is same? True for 28.799999999999997\n",
      "Distrib is same? True for 34.0\n",
      "---------\n",
      "KS test for m = 2\n",
      "Distrib is same? True for 2.8\n",
      "Distrib is same? True for 8.0\n",
      "Distrib is same? True for 13.2\n",
      "Distrib is same? True for 18.400000000000002\n",
      "Distrib is same? True for 23.6\n",
      "Distrib is same? True for 28.799999999999997\n",
      "Distrib is same? True for 34.0\n",
      "---------\n",
      "KS test for m = 3\n",
      "Distrib is same? True for 2.8\n",
      "Distrib is same? True for 8.0\n",
      "Distrib is same? True for 13.2\n",
      "Distrib is same? True for 18.400000000000002\n",
      "Distrib is same? True for 23.6\n",
      "Distrib is same? True for 28.799999999999997\n",
      "Distrib is same? True for 34.0\n",
      "---------\n",
      "KS test for m = 4\n",
      "Distrib is same? True for 2.8\n",
      "Distrib is same? True for 8.0\n",
      "Distrib is same? True for 13.2\n",
      "Distrib is same? True for 18.400000000000002\n",
      "Distrib is same? True for 23.6\n",
      "Distrib is same? True for 28.799999999999997\n",
      "Distrib is same? True for 34.0\n",
      "---------\n"
     ]
    },
    {
     "data": {
      "image/png": "[encoded data removed]",
      "text/plain": [
       "<Figure size 576x432 with 2 Axes>"
      ]
     },
     "metadata": {
      "needs_background": "light"
     },
     "output_type": "display_data"
    },
    {
     "data": {
      "text/plain": [
       "<Figure size 576x432 with 0 Axes>"
      ]
     },
     "metadata": {},
     "output_type": "display_data"
    }
   ],
   "source": [
    "# Making sure errors make sense\n",
    "plot=True\n",
    "\n",
    "\n",
    "import compare_distribs as cd\n",
    "for c, dbin in enumerate(dbins):\n",
    "    cl_dlow, cl_dhi = dbin[0], dbin[1]\n",
    "    dlow   = cl_dlow-50\n",
    "    dhi    = cl_dhi+50\n",
    "    zlow   = z_at_value(cosmo.comoving_distance, cl_dlow*u.Mpc)\n",
    "    zhi    = z_at_value(cosmo.comoving_distance, cl_dhi*u.Mpc)\n",
    "    mapstr = f'DES_maglim_z_{zbins[c]}'\n",
    "    #print(zlow, zhi)\n",
    "    mapstr = f'DES_maglim_z_{zbins[c]}'\n",
    "    errs   = np.load(dir+\"/{:s}_redmapper_lambdagt20_combined_{:d}_{:d}Mpc_{:s}20pt0_orientXYUP_75pct_maglim_{:d}_{:d}Mpc_{:d}reg_m0to5_profiles.pkl\".format(mapstr, cl_dlow, cl_dhi, pt_selection_str, dlow, dhi, nreg), allow_pickle=True)\n",
    "    full   = np.load(dir+\"/{:s}_redmapper_lambdagt20_combined_{:d}_{:d}Mpc_{:s}20pt0_orientXYUP_75pct_maglim_{:d}_{:d}Mpc_m0to5_profiles.pkl\".format(mapstr, cl_dlow, cl_dhi, pt_selection_str, dlow, dhi, nreg), allow_pickle=True)\n",
    "    profs = np.asarray(errs['prof'])\n",
    "    act = cpp.Stack_object(img_splits=errs['stacks'], profile_splits=np.transpose(profs, axes=[2,0,1]),Npks_splits=errs['npks_list'], rad_in_Mpc=40)\n",
    "    idx_r20 = np.where(np.abs(act.r-20) == np.min(np.abs(act.r-20)))[0][0]\n",
    "    act.profile_splits[0,:,:] -= np.average(act.profile_splits[0,:,:][:,idx_r20:])\n",
    "    act.set_average_profiles()\n",
    "    act.bin_and_get_stats(5.7) #Mpc\n",
    "    \n",
    "    full['binnedprof'][:,0] -= np.average(full['prof'][:,0][idx_r20:])\n",
    "    \n",
    "    pval= np.zeros((len(act.r_binned),5))\n",
    "    ks = np.zeros((len(act.r_binned),5))\n",
    "    same = len(act.r_binned) * [5*[False]]\n",
    "    print(len(same[0]))\n",
    "    print(f\"rvals {act.r_binned}\")\n",
    "    for m in range(5):\n",
    "        \n",
    "        vals = np.zeros((len(act.r_binned),24))\n",
    "        for i, reg in enumerate(range(24)):\n",
    "\n",
    "            vals[:,i] = act.profile_splits_binned[m][reg]\n",
    "    \n",
    "        print(f\"KS test for m = {m}\")\n",
    "        for r in range(len(act.r_binned)):\n",
    "            ks[r,m], pval[r,m], same[r][m] = cd.KStest_raderrs(vals[:,m],act.errors_binned[m]*np.sqrt(act.Nsamples),act.avg_profiles_binned[m])\n",
    "            print(f\"Distrib is same? {same[r][m]} for {act.r_binned[r]}\")\n",
    "        print(f\"---------\")\n",
    "\n",
    "    pval = np.transpose(np.asarray(pval))\n",
    "    \n",
    "    if plot:\n",
    "        scmap = cd.shiftedColorMap(plt.cm.RdBu, midpoint=0.05, name='shifted')\n",
    "        plt.imshow(pval, cmap=scmap)\n",
    "        plt.ylabel(\"m\")\n",
    "        # replace x ticks with r values\n",
    "        plt.xticks(np.arange(0, len(act.r_binned), 1), np.round(act.r_binned,1))\n",
    "        plt.xlabel(\"r [Mpc]\")\n",
    "        plt.colorbar()\n",
    "        plt.show()\n",
    "        \n",
    "        plt.clf()\n",
    "\n"
   ]
  }
 ],
 "metadata": {
  "kernelspec": {
   "display_name": "Python 3",
   "language": "python",
   "name": "python3"
  },
  "language_info": {
   "codemirror_mode": {
    "name": "ipython",
    "version": 3
   },
   "file_extension": ".py",
   "mimetype": "text/x-python",
   "name": "python",
   "nbconvert_exporter": "python",
   "pygments_lexer": "ipython3",
   "version": "3.10.2"
  },
  "orig_nbformat": 4
 },
 "nbformat": 4,
 "nbformat_minor": 2
}
